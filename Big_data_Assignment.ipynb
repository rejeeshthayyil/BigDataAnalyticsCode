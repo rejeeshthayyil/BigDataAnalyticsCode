{
 "cells": [
  {
   "cell_type": "code",
   "execution_count": 1,
   "id": "e1d38ddc",
   "metadata": {},
   "outputs": [],
   "source": [
    "import pyspark"
   ]
  },
  {
   "cell_type": "code",
   "execution_count": null,
   "id": "6e8f33bc",
   "metadata": {},
   "outputs": [],
   "source": []
  },
  {
   "cell_type": "code",
   "execution_count": 2,
   "id": "a688b198",
   "metadata": {},
   "outputs": [],
   "source": [
    "import pandas as pd\n",
    "import pyspark.sql"
   ]
  },
  {
   "cell_type": "code",
   "execution_count": 3,
   "id": "c58b115e",
   "metadata": {},
   "outputs": [
    {
     "name": "stdout",
     "output_type": "stream",
     "text": [
      "Requirement already satisfied: pyspark in c:\\users\\rejee\\anaconda3\\lib\\site-packages (3.3.1)\n",
      "Requirement already satisfied: py4j==0.10.9.5 in c:\\users\\rejee\\anaconda3\\lib\\site-packages (from pyspark) (0.10.9.5)\n"
     ]
    }
   ],
   "source": [
    "!pip install pyspark --upgrade"
   ]
  },
  {
   "cell_type": "code",
   "execution_count": 4,
   "id": "061d91a8",
   "metadata": {},
   "outputs": [],
   "source": [
    "import matplotlib.pyplot as plt\n",
    "import seaborn as sns\n",
    "import time\n",
    "\n",
    "%matplotlib inline"
   ]
  },
  {
   "cell_type": "code",
   "execution_count": 5,
   "id": "c95711d9",
   "metadata": {},
   "outputs": [],
   "source": [
    "from pyspark.sql import SparkSession\n",
    "import random\n",
    "import time\n",
    "import findspark"
   ]
  },
  {
   "cell_type": "code",
   "execution_count": 6,
   "id": "a0008adf",
   "metadata": {},
   "outputs": [],
   "source": [
    "findspark.init(r\"C:\\Users\\rejee\\spark-3.3.1-bin-hadoop3\")"
   ]
  },
  {
   "cell_type": "code",
   "execution_count": 7,
   "id": "2fe687b9",
   "metadata": {},
   "outputs": [],
   "source": [
    "spark = SparkSession \\\n",
    "  .builder \\\n",
    "  .appName(\"Pi\") \\\n",
    "  .master(\"local[4]\") \\\n",
    "  .getOrCreate()"
   ]
  },
  {
   "cell_type": "code",
   "execution_count": 8,
   "id": "67c91658",
   "metadata": {},
   "outputs": [],
   "source": [
    "#spark=SparkSession.builder.appName(\"Amazone\").getOrCreate()"
   ]
  },
  {
   "cell_type": "code",
   "execution_count": 9,
   "id": "5eb9ff25",
   "metadata": {},
   "outputs": [
    {
     "data": {
      "text/html": [
       "\n",
       "            <div>\n",
       "                <p><b>SparkSession - in-memory</b></p>\n",
       "                \n",
       "        <div>\n",
       "            <p><b>SparkContext</b></p>\n",
       "\n",
       "            <p><a href=\"http://DESKTOP-6UT81JN.home:4040\">Spark UI</a></p>\n",
       "\n",
       "            <dl>\n",
       "              <dt>Version</dt>\n",
       "                <dd><code>v3.3.1</code></dd>\n",
       "              <dt>Master</dt>\n",
       "                <dd><code>local[4]</code></dd>\n",
       "              <dt>AppName</dt>\n",
       "                <dd><code>Pi</code></dd>\n",
       "            </dl>\n",
       "        </div>\n",
       "        \n",
       "            </div>\n",
       "        "
      ],
      "text/plain": [
       "<pyspark.sql.session.SparkSession at 0x21c2e3f8730>"
      ]
     },
     "execution_count": 9,
     "metadata": {},
     "output_type": "execute_result"
    }
   ],
   "source": [
    "\n",
    "spark"
   ]
  },
  {
   "cell_type": "code",
   "execution_count": 10,
   "id": "d9e2f726",
   "metadata": {},
   "outputs": [],
   "source": [
    "sc = spark.sparkContext\n",
    "\n",
    "num_samples = 100000000"
   ]
  },
  {
   "cell_type": "code",
   "execution_count": 11,
   "id": "1f4474a4",
   "metadata": {},
   "outputs": [],
   "source": [
    "df_pyspark=spark.read.csv('.\\kindle_reviews.csv')"
   ]
  },
  {
   "cell_type": "code",
   "execution_count": 12,
   "id": "f4f74a9b",
   "metadata": {},
   "outputs": [
    {
     "name": "stdout",
     "output_type": "stream",
     "text": [
      "+----+----------+-------+-------+--------------------+-----------+--------------+--------------------+--------------------+--------------+\n",
      "| _c0|       _c1|    _c2|    _c3|                 _c4|        _c5|           _c6|                 _c7|                 _c8|           _c9|\n",
      "+----+----------+-------+-------+--------------------+-----------+--------------+--------------------+--------------------+--------------+\n",
      "|null|      asin|helpful|overall|          reviewText| reviewTime|    reviewerID|        reviewerName|             summary|unixReviewTime|\n",
      "|   0|B000F83SZQ| [0, 0]|      5|I enjoy vintage b...| 05 5, 2014|A1F6404F1VG29J|          Avidreader|  Nice vintage story|    1399248000|\n",
      "|   1|B000F83SZQ| [2, 2]|      4|This book is a re...| 01 6, 2014| AN0N05A9LIJEQ|            critters|        Different...|    1388966400|\n",
      "|   2|B000F83SZQ| [2, 2]|      4|This was a fairly...| 04 4, 2014| A795DMNCJILA6|                 dot|               Oldie|    1396569600|\n",
      "|   3|B000F83SZQ| [1, 1]|      5|I'd never read an...|02 19, 2014|A1FV0SX13TWVXQ|\"Elaine H. Turley...|  I really liked it.|    1392768000|\n",
      "|   4|B000F83SZQ| [0, 1]|      4|If you like perio...|03 19, 2014|A3SPTOKDG7WBLN|  Father Dowling Fan|      Period Mystery|    1395187200|\n",
      "|   5|B000F83SZQ| [0, 0]|      4|A beautiful in-de...|05 26, 2014|A1RK2OCZDSGC6R|    ubavka seirovska|              Review|    1401062400|\n",
      "|   6|B000F83SZQ| [0, 0]|      4|I enjoyed this on...|06 10, 2014|A2HSAKHC3IBRE6|            Wolfmist|Nice old fashione...|    1402358400|\n",
      "|   7|B000F83SZQ| [1, 1]|      4|Never heard of Am...|03 22, 2014|A3DE6XGZ2EPADS|                 WPY|Enjoyable reading...|    1395446400|\n",
      "|   8|B000FA64PA| [0, 0]|      5|Darth Maul workin...|10 11, 2013|A1UG4Q4D3OAH3A|                 dsa|          Darth Maul|    1381449600|\n",
      "|   9|B000FA64PA| [0, 0]|      4|This is a short s...|02 13, 2011| AQZH7YTWQPOBE|            Enjolras|Not bad, not exce...|    1297555200|\n",
      "|  10|B000FA64PA| [0, 0]|      5|I think I have th...|01 27, 2014|A1ZT7WV0ZUA0OJ|                Mike|      Audio and book|    1390780800|\n",
      "|  11|B000FA64PA| [0, 0]|      4|Title has nothing...|09 17, 2011|A2ZFR72PT054YS|          monkeyluis|Darth Maul...the ...|    1316217600|\n",
      "|  12|B000FA64PA| [0, 0]|      3|Well written. Int...|12 31, 2013| A2QK1U70OJ74P|         Sharon Deem|Not bad; it is we...|    1388448000|\n",
      "|  13|B000FA64PK| [0, 0]|      3|Troy Denning's no...|03 15, 2012|A3SZMGJMV0G16C|\"Andrew Pruette \"...|Han and Leia reun...|    1331769600|\n",
      "|  14|B000FA64PK| [0, 0]|      5|I am not for sure...|05 12, 2013|A3H8PE1UFK04JZ|         Caleb Watts|  Possibly Important|    1368316800|\n",
      "|  15|B000FA64PK| [0, 0]|      5|I really enjoyed ...| 01 2, 2014|A2EN84QHDRZLP2|          Carl craft|        Another read|    1388620800|\n",
      "|  16|B000FA64PK| [0, 0]|      5|Great read enjoye...|10 29, 2013|A1UG4Q4D3OAH3A|                 dsa|            Recovery|    1383004800|\n",
      "|  17|B000FA64PK| [4, 4]|      3|Another well writ...|04 16, 2009|A38Z3Q6DTDIH9J|\"Jimmy J. Shaw \"\"...|Star Wars: The Ne...|    1239840000|\n",
      "|  18|B000FA64PK| [0, 1]|      5|This one promises...|01 27, 2014|A1ZT7WV0ZUA0OJ|                Mike|       my collection|    1390780800|\n",
      "+----+----------+-------+-------+--------------------+-----------+--------------+--------------------+--------------------+--------------+\n",
      "only showing top 20 rows\n",
      "\n"
     ]
    }
   ],
   "source": [
    "df_pyspark.show()"
   ]
  },
  {
   "cell_type": "code",
   "execution_count": 13,
   "id": "5bb19ab9",
   "metadata": {},
   "outputs": [],
   "source": [
    "df_pyspark2=spark.read.option('header','true').csv('.\\kindle_reviews.csv',inferSchema=True).na.drop()"
   ]
  },
  {
   "cell_type": "code",
   "execution_count": 14,
   "id": "d62a440b",
   "metadata": {},
   "outputs": [
    {
     "data": {
      "text/plain": [
       "pyspark.sql.dataframe.DataFrame"
      ]
     },
     "execution_count": 14,
     "metadata": {},
     "output_type": "execute_result"
    }
   ],
   "source": [
    "type(df_pyspark)"
   ]
  },
  {
   "cell_type": "code",
   "execution_count": 15,
   "id": "8967f6f0",
   "metadata": {},
   "outputs": [
    {
     "name": "stdout",
     "output_type": "stream",
     "text": [
      "root\n",
      " |-- _c0: string (nullable = true)\n",
      " |-- _c1: string (nullable = true)\n",
      " |-- _c2: string (nullable = true)\n",
      " |-- _c3: string (nullable = true)\n",
      " |-- _c4: string (nullable = true)\n",
      " |-- _c5: string (nullable = true)\n",
      " |-- _c6: string (nullable = true)\n",
      " |-- _c7: string (nullable = true)\n",
      " |-- _c8: string (nullable = true)\n",
      " |-- _c9: string (nullable = true)\n",
      "\n"
     ]
    }
   ],
   "source": [
    "df_pyspark.printSchema()"
   ]
  },
  {
   "cell_type": "code",
   "execution_count": 16,
   "id": "94c3cf19",
   "metadata": {},
   "outputs": [
    {
     "data": {
      "text/plain": [
       "[Row(_c0=None, _c1='asin', _c2='helpful', _c3='overall', _c4='reviewText', _c5='reviewTime', _c6='reviewerID', _c7='reviewerName', _c8='summary', _c9='unixReviewTime'),\n",
       " Row(_c0='0', _c1='B000F83SZQ', _c2='[0, 0]', _c3='5', _c4=\"I enjoy vintage books and movies so I enjoyed reading this book.  The plot was unusual.  Don't think killing someone in self-defense but leaving the scene and the body without notifying the police or hitting someone in the jaw to knock them out would wash today.Still it was a good read for me.\", _c5='05 5, 2014', _c6='A1F6404F1VG29J', _c7='Avidreader', _c8='Nice vintage story', _c9='1399248000'),\n",
       " Row(_c0='1', _c1='B000F83SZQ', _c2='[2, 2]', _c3='4', _c4=\"This book is a reissue of an old one; the author was born in 1910. It's of the era of, say, Nero Wolfe. The introduction was quite interesting, explaining who the author was and why he's been forgotten; I'd never heard of him.The language is a little dated at times, like calling a gun a &#34;heater.&#34;  I also made good use of my Fire's dictionary to look up words like &#34;deshabille&#34; and &#34;Canarsie.&#34; Still, it was well worth a look-see.\", _c5='01 6, 2014', _c6='AN0N05A9LIJEQ', _c7='critters', _c8='Different...', _c9='1388966400')]"
      ]
     },
     "execution_count": 16,
     "metadata": {},
     "output_type": "execute_result"
    }
   ],
   "source": [
    "df_pyspark.head(3)"
   ]
  },
  {
   "cell_type": "code",
   "execution_count": 17,
   "id": "b833ae9b",
   "metadata": {},
   "outputs": [
    {
     "name": "stdout",
     "output_type": "stream",
     "text": [
      "+----+----------+-------+-------+--------------------+-----------+--------------+--------------------+--------------------+--------------+\n",
      "| _c0|       _c1|    _c2|    _c3|                 _c4|        _c5|           _c6|                 _c7|                 _c8|           _c9|\n",
      "+----+----------+-------+-------+--------------------+-----------+--------------+--------------------+--------------------+--------------+\n",
      "|null|      asin|helpful|overall|          reviewText| reviewTime|    reviewerID|        reviewerName|             summary|unixReviewTime|\n",
      "|   0|B000F83SZQ| [0, 0]|      5|I enjoy vintage b...| 05 5, 2014|A1F6404F1VG29J|          Avidreader|  Nice vintage story|    1399248000|\n",
      "|   1|B000F83SZQ| [2, 2]|      4|This book is a re...| 01 6, 2014| AN0N05A9LIJEQ|            critters|        Different...|    1388966400|\n",
      "|   2|B000F83SZQ| [2, 2]|      4|This was a fairly...| 04 4, 2014| A795DMNCJILA6|                 dot|               Oldie|    1396569600|\n",
      "|   3|B000F83SZQ| [1, 1]|      5|I'd never read an...|02 19, 2014|A1FV0SX13TWVXQ|\"Elaine H. Turley...|  I really liked it.|    1392768000|\n",
      "|   4|B000F83SZQ| [0, 1]|      4|If you like perio...|03 19, 2014|A3SPTOKDG7WBLN|  Father Dowling Fan|      Period Mystery|    1395187200|\n",
      "|   5|B000F83SZQ| [0, 0]|      4|A beautiful in-de...|05 26, 2014|A1RK2OCZDSGC6R|    ubavka seirovska|              Review|    1401062400|\n",
      "|   6|B000F83SZQ| [0, 0]|      4|I enjoyed this on...|06 10, 2014|A2HSAKHC3IBRE6|            Wolfmist|Nice old fashione...|    1402358400|\n",
      "|   7|B000F83SZQ| [1, 1]|      4|Never heard of Am...|03 22, 2014|A3DE6XGZ2EPADS|                 WPY|Enjoyable reading...|    1395446400|\n",
      "|   8|B000FA64PA| [0, 0]|      5|Darth Maul workin...|10 11, 2013|A1UG4Q4D3OAH3A|                 dsa|          Darth Maul|    1381449600|\n",
      "|   9|B000FA64PA| [0, 0]|      4|This is a short s...|02 13, 2011| AQZH7YTWQPOBE|            Enjolras|Not bad, not exce...|    1297555200|\n",
      "|  10|B000FA64PA| [0, 0]|      5|I think I have th...|01 27, 2014|A1ZT7WV0ZUA0OJ|                Mike|      Audio and book|    1390780800|\n",
      "|  11|B000FA64PA| [0, 0]|      4|Title has nothing...|09 17, 2011|A2ZFR72PT054YS|          monkeyluis|Darth Maul...the ...|    1316217600|\n",
      "|  12|B000FA64PA| [0, 0]|      3|Well written. Int...|12 31, 2013| A2QK1U70OJ74P|         Sharon Deem|Not bad; it is we...|    1388448000|\n",
      "|  13|B000FA64PK| [0, 0]|      3|Troy Denning's no...|03 15, 2012|A3SZMGJMV0G16C|\"Andrew Pruette \"...|Han and Leia reun...|    1331769600|\n",
      "|  14|B000FA64PK| [0, 0]|      5|I am not for sure...|05 12, 2013|A3H8PE1UFK04JZ|         Caleb Watts|  Possibly Important|    1368316800|\n",
      "|  15|B000FA64PK| [0, 0]|      5|I really enjoyed ...| 01 2, 2014|A2EN84QHDRZLP2|          Carl craft|        Another read|    1388620800|\n",
      "|  16|B000FA64PK| [0, 0]|      5|Great read enjoye...|10 29, 2013|A1UG4Q4D3OAH3A|                 dsa|            Recovery|    1383004800|\n",
      "|  17|B000FA64PK| [4, 4]|      3|Another well writ...|04 16, 2009|A38Z3Q6DTDIH9J|\"Jimmy J. Shaw \"\"...|Star Wars: The Ne...|    1239840000|\n",
      "|  18|B000FA64PK| [0, 1]|      5|This one promises...|01 27, 2014|A1ZT7WV0ZUA0OJ|                Mike|       my collection|    1390780800|\n",
      "+----+----------+-------+-------+--------------------+-----------+--------------+--------------------+--------------------+--------------+\n",
      "only showing top 20 rows\n",
      "\n"
     ]
    }
   ],
   "source": [
    "df_pyspark.show()"
   ]
  },
  {
   "cell_type": "code",
   "execution_count": 18,
   "id": "22297cf0",
   "metadata": {},
   "outputs": [
    {
     "ename": "AnalysisException",
     "evalue": "Column 'summary' does not exist. Did you mean one of the following? [_c0, _c1, _c2, _c3, _c4, _c5, _c6, _c7, _c8, _c9];\n'Project ['summary]\n+- Relation [_c0#17,_c1#18,_c2#19,_c3#20,_c4#21,_c5#22,_c6#23,_c7#24,_c8#25,_c9#26] csv\n",
     "output_type": "error",
     "traceback": [
      "\u001b[1;31m---------------------------------------------------------------------------\u001b[0m",
      "\u001b[1;31mAnalysisException\u001b[0m                         Traceback (most recent call last)",
      "\u001b[1;32m~\\AppData\\Local\\Temp/ipykernel_18256/2823444663.py\u001b[0m in \u001b[0;36m<module>\u001b[1;34m\u001b[0m\n\u001b[1;32m----> 1\u001b[1;33m \u001b[0mdf_pyspark\u001b[0m\u001b[1;33m.\u001b[0m\u001b[0mselect\u001b[0m\u001b[1;33m(\u001b[0m\u001b[1;34m'summary'\u001b[0m\u001b[1;33m)\u001b[0m\u001b[1;33m.\u001b[0m\u001b[0mshow\u001b[0m\u001b[1;33m(\u001b[0m\u001b[1;33m)\u001b[0m\u001b[1;33m\u001b[0m\u001b[1;33m\u001b[0m\u001b[0m\n\u001b[0m",
      "\u001b[1;32m~\\anaconda3\\lib\\site-packages\\pyspark\\sql\\dataframe.py\u001b[0m in \u001b[0;36mselect\u001b[1;34m(self, *cols)\u001b[0m\n\u001b[0;32m   2021\u001b[0m         \u001b[1;33m[\u001b[0m\u001b[0mRow\u001b[0m\u001b[1;33m(\u001b[0m\u001b[0mname\u001b[0m\u001b[1;33m=\u001b[0m\u001b[1;34m'Alice'\u001b[0m\u001b[1;33m,\u001b[0m \u001b[0mage\u001b[0m\u001b[1;33m=\u001b[0m\u001b[1;36m12\u001b[0m\u001b[1;33m)\u001b[0m\u001b[1;33m,\u001b[0m \u001b[0mRow\u001b[0m\u001b[1;33m(\u001b[0m\u001b[0mname\u001b[0m\u001b[1;33m=\u001b[0m\u001b[1;34m'Bob'\u001b[0m\u001b[1;33m,\u001b[0m \u001b[0mage\u001b[0m\u001b[1;33m=\u001b[0m\u001b[1;36m15\u001b[0m\u001b[1;33m)\u001b[0m\u001b[1;33m]\u001b[0m\u001b[1;33m\u001b[0m\u001b[1;33m\u001b[0m\u001b[0m\n\u001b[0;32m   2022\u001b[0m         \"\"\"\n\u001b[1;32m-> 2023\u001b[1;33m         \u001b[0mjdf\u001b[0m \u001b[1;33m=\u001b[0m \u001b[0mself\u001b[0m\u001b[1;33m.\u001b[0m\u001b[0m_jdf\u001b[0m\u001b[1;33m.\u001b[0m\u001b[0mselect\u001b[0m\u001b[1;33m(\u001b[0m\u001b[0mself\u001b[0m\u001b[1;33m.\u001b[0m\u001b[0m_jcols\u001b[0m\u001b[1;33m(\u001b[0m\u001b[1;33m*\u001b[0m\u001b[0mcols\u001b[0m\u001b[1;33m)\u001b[0m\u001b[1;33m)\u001b[0m\u001b[1;33m\u001b[0m\u001b[1;33m\u001b[0m\u001b[0m\n\u001b[0m\u001b[0;32m   2024\u001b[0m         \u001b[1;32mreturn\u001b[0m \u001b[0mDataFrame\u001b[0m\u001b[1;33m(\u001b[0m\u001b[0mjdf\u001b[0m\u001b[1;33m,\u001b[0m \u001b[0mself\u001b[0m\u001b[1;33m.\u001b[0m\u001b[0msparkSession\u001b[0m\u001b[1;33m)\u001b[0m\u001b[1;33m\u001b[0m\u001b[1;33m\u001b[0m\u001b[0m\n\u001b[0;32m   2025\u001b[0m \u001b[1;33m\u001b[0m\u001b[0m\n",
      "\u001b[1;32m~\\anaconda3\\lib\\site-packages\\py4j\\java_gateway.py\u001b[0m in \u001b[0;36m__call__\u001b[1;34m(self, *args)\u001b[0m\n\u001b[0;32m   1319\u001b[0m \u001b[1;33m\u001b[0m\u001b[0m\n\u001b[0;32m   1320\u001b[0m         \u001b[0manswer\u001b[0m \u001b[1;33m=\u001b[0m \u001b[0mself\u001b[0m\u001b[1;33m.\u001b[0m\u001b[0mgateway_client\u001b[0m\u001b[1;33m.\u001b[0m\u001b[0msend_command\u001b[0m\u001b[1;33m(\u001b[0m\u001b[0mcommand\u001b[0m\u001b[1;33m)\u001b[0m\u001b[1;33m\u001b[0m\u001b[1;33m\u001b[0m\u001b[0m\n\u001b[1;32m-> 1321\u001b[1;33m         return_value = get_return_value(\n\u001b[0m\u001b[0;32m   1322\u001b[0m             answer, self.gateway_client, self.target_id, self.name)\n\u001b[0;32m   1323\u001b[0m \u001b[1;33m\u001b[0m\u001b[0m\n",
      "\u001b[1;32m~\\anaconda3\\lib\\site-packages\\pyspark\\sql\\utils.py\u001b[0m in \u001b[0;36mdeco\u001b[1;34m(*a, **kw)\u001b[0m\n\u001b[0;32m    194\u001b[0m                 \u001b[1;31m# Hide where the exception came from that shows a non-Pythonic\u001b[0m\u001b[1;33m\u001b[0m\u001b[1;33m\u001b[0m\u001b[0m\n\u001b[0;32m    195\u001b[0m                 \u001b[1;31m# JVM exception message.\u001b[0m\u001b[1;33m\u001b[0m\u001b[1;33m\u001b[0m\u001b[0m\n\u001b[1;32m--> 196\u001b[1;33m                 \u001b[1;32mraise\u001b[0m \u001b[0mconverted\u001b[0m \u001b[1;32mfrom\u001b[0m \u001b[1;32mNone\u001b[0m\u001b[1;33m\u001b[0m\u001b[1;33m\u001b[0m\u001b[0m\n\u001b[0m\u001b[0;32m    197\u001b[0m             \u001b[1;32melse\u001b[0m\u001b[1;33m:\u001b[0m\u001b[1;33m\u001b[0m\u001b[1;33m\u001b[0m\u001b[0m\n\u001b[0;32m    198\u001b[0m                 \u001b[1;32mraise\u001b[0m\u001b[1;33m\u001b[0m\u001b[1;33m\u001b[0m\u001b[0m\n",
      "\u001b[1;31mAnalysisException\u001b[0m: Column 'summary' does not exist. Did you mean one of the following? [_c0, _c1, _c2, _c3, _c4, _c5, _c6, _c7, _c8, _c9];\n'Project ['summary]\n+- Relation [_c0#17,_c1#18,_c2#19,_c3#20,_c4#21,_c5#22,_c6#23,_c7#24,_c8#25,_c9#26] csv\n"
     ]
    }
   ],
   "source": [
    "df_pyspark.select('summary').show()"
   ]
  },
  {
   "cell_type": "code",
   "execution_count": null,
   "id": "5c450813",
   "metadata": {},
   "outputs": [],
   "source": [
    "df_pyspark.select(['summary','overall']).show()"
   ]
  },
  {
   "cell_type": "code",
   "execution_count": null,
   "id": "a15a6d8e",
   "metadata": {},
   "outputs": [],
   "source": [
    "df_pyspark.describe().show()"
   ]
  },
  {
   "cell_type": "code",
   "execution_count": null,
   "id": "ec8bab33",
   "metadata": {},
   "outputs": [],
   "source": [
    "df_pyspark=df_pyspark.drop('reviewTime','reviewerName','reviewerID','helpful','unixReviewTime')"
   ]
  },
  {
   "cell_type": "code",
   "execution_count": null,
   "id": "e6701770",
   "metadata": {},
   "outputs": [],
   "source": [
    "df_pyspark.show()"
   ]
  },
  {
   "cell_type": "code",
   "execution_count": null,
   "id": "0809721c",
   "metadata": {},
   "outputs": [],
   "source": [
    "df_pyspark1=df_pyspark.withColumnRenamed('overall','Rating')"
   ]
  },
  {
   "cell_type": "code",
   "execution_count": null,
   "id": "a12b7612",
   "metadata": {},
   "outputs": [],
   "source": [
    "df_pyspark1.show()"
   ]
  },
  {
   "cell_type": "code",
   "execution_count": null,
   "id": "252ef36c",
   "metadata": {},
   "outputs": [],
   "source": [
    "df_pyspark1.show(5)"
   ]
  },
  {
   "cell_type": "code",
   "execution_count": null,
   "id": "b8fa706a",
   "metadata": {},
   "outputs": [],
   "source": [
    "df_pyspark1.na.drop()"
   ]
  },
  {
   "cell_type": "code",
   "execution_count": null,
   "id": "6620a245",
   "metadata": {},
   "outputs": [],
   "source": [
    "df_pyspark1.show()"
   ]
  },
  {
   "cell_type": "code",
   "execution_count": null,
   "id": "b69c8b41",
   "metadata": {},
   "outputs": [],
   "source": [
    "print(pyspark.__version__)"
   ]
  },
  {
   "cell_type": "code",
   "execution_count": null,
   "id": "be259503",
   "metadata": {},
   "outputs": [],
   "source": [
    "#group by function"
   ]
  },
  {
   "cell_type": "code",
   "execution_count": null,
   "id": "68716417",
   "metadata": {},
   "outputs": [],
   "source": [
    "#df.toPandas()['Rating'].value_counts()"
   ]
  },
  {
   "cell_type": "code",
   "execution_count": null,
   "id": "26f36fce",
   "metadata": {},
   "outputs": [],
   "source": [
    "grouped_df = df_pyspark1.groupBy(\"Rating\")"
   ]
  },
  {
   "cell_type": "code",
   "execution_count": null,
   "id": "74608728",
   "metadata": {},
   "outputs": [],
   "source": [
    "counts = grouped_df.count()\n",
    "\n",
    "# show the counts\n",
    "counts.show()"
   ]
  },
  {
   "cell_type": "code",
   "execution_count": null,
   "id": "f6ca919a",
   "metadata": {},
   "outputs": [],
   "source": [
    "import pyspark.ml.feature"
   ]
  },
  {
   "cell_type": "code",
   "execution_count": null,
   "id": "2bef81e8",
   "metadata": {},
   "outputs": [],
   "source": [
    "dir(pyspark.ml.feature)"
   ]
  },
  {
   "cell_type": "code",
   "execution_count": null,
   "id": "961f0eaf",
   "metadata": {},
   "outputs": [],
   "source": [
    "from pyspark.ml.feature import Tokenizer,StopWordsRemover,IDF,CountVectorizer\n",
    "from pyspark.ml.feature import StringIndexer,OneHotEncoder\n",
    "\n"
   ]
  },
  {
   "cell_type": "code",
   "execution_count": null,
   "id": "d9916bd8",
   "metadata": {},
   "outputs": [],
   "source": []
  },
  {
   "cell_type": "code",
   "execution_count": null,
   "id": "de489c9d",
   "metadata": {},
   "outputs": [],
   "source": [
    "tokenizer=Tokenizer(inputCol='reviewText',outputCol='review_token')\n",
    "stop_words=StopWordsRemover(inputCol='review_token',outputCol='review_stop')\n",
    "countvector=CountVectorizer(inputCol='review_stop',outputCol='review_count')\n",
    "Idf=IDF(inputCol='review_count',outputCol='Idf_features')\n",
    "#df = indexer.fit(df).transform(df)"
   ]
  },
  {
   "cell_type": "code",
   "execution_count": null,
   "id": "4071cb7d",
   "metadata": {},
   "outputs": [],
   "source": [
    "Idf"
   ]
  },
  {
   "cell_type": "code",
   "execution_count": null,
   "id": "cd55b461",
   "metadata": {},
   "outputs": [],
   "source": [
    "#one_hot=StringIndexer(inputCol='Rating',outputCol='Onehot_rating').fit(df_pyspark1).transform(df_pyspark1)"
   ]
  },
  {
   "cell_type": "code",
   "execution_count": null,
   "id": "cf92355c",
   "metadata": {},
   "outputs": [],
   "source": [
    "#Label Encoder"
   ]
  },
  {
   "cell_type": "code",
   "execution_count": null,
   "id": "45d18a50",
   "metadata": {},
   "outputs": [],
   "source": [
    "indexer = StringIndexer(inputCol='Rating', outputCol='label').fit(df_pyspark1)"
   ]
  },
  {
   "cell_type": "code",
   "execution_count": null,
   "id": "d4f43d07",
   "metadata": {},
   "outputs": [],
   "source": [
    "indexer.transform(df_pyspark1).show(5)"
   ]
  },
  {
   "cell_type": "code",
   "execution_count": null,
   "id": "ba93bd2f",
   "metadata": {},
   "outputs": [],
   "source": [
    "indexer.labels"
   ]
  },
  {
   "cell_type": "code",
   "execution_count": null,
   "id": "fb71575d",
   "metadata": {},
   "outputs": [],
   "source": []
  },
  {
   "cell_type": "code",
   "execution_count": null,
   "id": "c0bf6e45",
   "metadata": {},
   "outputs": [],
   "source": [
    "#one_hot = indexer.fit(df_pyspark1).transform(df_pyspark1)"
   ]
  },
  {
   "cell_type": "code",
   "execution_count": null,
   "id": "b93552b4",
   "metadata": {},
   "outputs": [],
   "source": [
    "#one_hot.show(10)"
   ]
  },
  {
   "cell_type": "code",
   "execution_count": null,
   "id": "bfa425d9",
   "metadata": {},
   "outputs": [],
   "source": [
    "#Create a OneHotEncoderEstimator to one-hot encode the numerical indices\n",
    "#encoder = OneHotEncoder(inputCols=['RatingIndex'], outputCols=['RatingVec'])\n",
    "#df = encoder.fit(df_pyspark1).transform(df_pyspark1)\n",
    "\n",
    "#df.show()\n"
   ]
  },
  {
   "cell_type": "code",
   "execution_count": null,
   "id": "2a5ae18d",
   "metadata": {},
   "outputs": [],
   "source": [
    "#dataset spliting\n"
   ]
  },
  {
   "cell_type": "code",
   "execution_count": null,
   "id": "e471b7b6",
   "metadata": {},
   "outputs": [],
   "source": [
    "(trainDF,testDF)=df_pyspark1.randomSplit((0.7,0.3),seed=42)"
   ]
  },
  {
   "cell_type": "code",
   "execution_count": null,
   "id": "cae552ff",
   "metadata": {},
   "outputs": [],
   "source": [
    "trainDF.show(5)"
   ]
  },
  {
   "cell_type": "code",
   "execution_count": null,
   "id": "9f4265bc",
   "metadata": {},
   "outputs": [],
   "source": [
    "testDF.show(5)"
   ]
  },
  {
   "cell_type": "code",
   "execution_count": null,
   "id": "bcaac071",
   "metadata": {},
   "outputs": [],
   "source": [
    "from pyspark.ml.classification import LogisticRegression"
   ]
  },
  {
   "cell_type": "code",
   "execution_count": null,
   "id": "be605709",
   "metadata": {},
   "outputs": [],
   "source": [
    "lr=LogisticRegression(featuresCol='Idf_features',labelCol='Rating')"
   ]
  },
  {
   "cell_type": "markdown",
   "id": "31b336fc",
   "metadata": {},
   "source": [
    "##pipeline"
   ]
  },
  {
   "cell_type": "code",
   "execution_count": null,
   "id": "4cebfd4c",
   "metadata": {},
   "outputs": [],
   "source": [
    "from pyspark.ml import Pipeline"
   ]
  },
  {
   "cell_type": "code",
   "execution_count": null,
   "id": "7a365549",
   "metadata": {},
   "outputs": [],
   "source": [
    "pipeline=Pipeline(stages=[tokenizer,stop_words,countvector,Idf,lr])"
   ]
  },
  {
   "cell_type": "code",
   "execution_count": null,
   "id": "04d69e22",
   "metadata": {},
   "outputs": [],
   "source": [
    "pipeline"
   ]
  },
  {
   "cell_type": "code",
   "execution_count": null,
   "id": "16fdb725",
   "metadata": {},
   "outputs": [],
   "source": [
    "pipeline.stages"
   ]
  },
  {
   "cell_type": "code",
   "execution_count": null,
   "id": "553d8e8e",
   "metadata": {},
   "outputs": [],
   "source": [
    "lr_model=pipeline.fit(trainDF)"
   ]
  },
  {
   "cell_type": "code",
   "execution_count": null,
   "id": "cfa8831b",
   "metadata": {},
   "outputs": [],
   "source": [
    "spark.stop()"
   ]
  },
  {
   "cell_type": "code",
   "execution_count": null,
   "id": "bd760bd6",
   "metadata": {},
   "outputs": [],
   "source": []
  }
 ],
 "metadata": {
  "kernelspec": {
   "display_name": "Python 3 (ipykernel)",
   "language": "python",
   "name": "python3"
  },
  "language_info": {
   "codemirror_mode": {
    "name": "ipython",
    "version": 3
   },
   "file_extension": ".py",
   "mimetype": "text/x-python",
   "name": "python",
   "nbconvert_exporter": "python",
   "pygments_lexer": "ipython3",
   "version": "3.9.7"
  }
 },
 "nbformat": 4,
 "nbformat_minor": 5
}
