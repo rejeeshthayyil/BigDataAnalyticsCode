{
 "cells": [
  {
   "cell_type": "markdown",
   "id": "74102663",
   "metadata": {},
   "source": [
    "# CMS3504-7504 Big Data Analysis - Assignment 2"
   ]
  },
  {
   "cell_type": "code",
   "execution_count": 1,
   "id": "7c6d1a89",
   "metadata": {},
   "outputs": [],
   "source": [
    "import findspark\n",
    "from pyspark.sql import SparkSession\n",
    "import matplotlib.pyplot as plt\n",
    "%matplotlib inline"
   ]
  },
  {
   "cell_type": "code",
   "execution_count": 2,
   "id": "1629eb23",
   "metadata": {},
   "outputs": [],
   "source": [
    "findspark.init(r\"C:\\Users\\rejee\\spark-3.3.1-bin-hadoop3\")"
   ]
  },
  {
   "cell_type": "code",
   "execution_count": 3,
   "id": "336f62d4",
   "metadata": {},
   "outputs": [],
   "source": [
    "import pyspark"
   ]
  },
  {
   "cell_type": "code",
   "execution_count": 4,
   "id": "76556593",
   "metadata": {},
   "outputs": [],
   "source": [
    "spark = SparkSession.builder.appName(\"AmazonKindle\").getOrCreate()"
   ]
  },
  {
   "cell_type": "code",
   "execution_count": 5,
   "id": "f1242dd9",
   "metadata": {},
   "outputs": [],
   "source": [
    "sc = spark.sparkContext"
   ]
  },
  {
   "cell_type": "code",
   "execution_count": 6,
   "id": "ab6563b1",
   "metadata": {},
   "outputs": [
    {
     "name": "stdout",
     "output_type": "stream",
     "text": [
      "+---+----------+-------+-------+--------------------+-----------+--------------+--------------------+--------------------+--------------+\n",
      "|_c0|      asin|helpful|overall|          reviewText| reviewTime|    reviewerID|        reviewerName|             summary|unixReviewTime|\n",
      "+---+----------+-------+-------+--------------------+-----------+--------------+--------------------+--------------------+--------------+\n",
      "|  0|B000F83SZQ| [0, 0]|      5|I enjoy vintage b...| 05 5, 2014|A1F6404F1VG29J|          Avidreader|  Nice vintage story|    1399248000|\n",
      "|  1|B000F83SZQ| [2, 2]|      4|This book is a re...| 01 6, 2014| AN0N05A9LIJEQ|            critters|        Different...|    1388966400|\n",
      "|  2|B000F83SZQ| [2, 2]|      4|This was a fairly...| 04 4, 2014| A795DMNCJILA6|                 dot|               Oldie|    1396569600|\n",
      "|  3|B000F83SZQ| [1, 1]|      5|I'd never read an...|02 19, 2014|A1FV0SX13TWVXQ|\"Elaine H. Turley...|  I really liked it.|    1392768000|\n",
      "|  4|B000F83SZQ| [0, 1]|      4|If you like perio...|03 19, 2014|A3SPTOKDG7WBLN|  Father Dowling Fan|      Period Mystery|    1395187200|\n",
      "|  5|B000F83SZQ| [0, 0]|      4|A beautiful in-de...|05 26, 2014|A1RK2OCZDSGC6R|    ubavka seirovska|              Review|    1401062400|\n",
      "|  6|B000F83SZQ| [0, 0]|      4|I enjoyed this on...|06 10, 2014|A2HSAKHC3IBRE6|            Wolfmist|Nice old fashione...|    1402358400|\n",
      "|  7|B000F83SZQ| [1, 1]|      4|Never heard of Am...|03 22, 2014|A3DE6XGZ2EPADS|                 WPY|Enjoyable reading...|    1395446400|\n",
      "|  8|B000FA64PA| [0, 0]|      5|Darth Maul workin...|10 11, 2013|A1UG4Q4D3OAH3A|                 dsa|          Darth Maul|    1381449600|\n",
      "|  9|B000FA64PA| [0, 0]|      4|This is a short s...|02 13, 2011| AQZH7YTWQPOBE|            Enjolras|Not bad, not exce...|    1297555200|\n",
      "+---+----------+-------+-------+--------------------+-----------+--------------+--------------------+--------------------+--------------+\n",
      "only showing top 10 rows\n",
      "\n"
     ]
    }
   ],
   "source": [
    "#reading data\n",
    "df = spark.read.load(\".\\kindle_reviews.csv\", format=\"csv\", sep=\",\", header=\"true\", inferSchema=True)\n",
    "df.show(10)"
   ]
  },
  {
   "cell_type": "code",
   "execution_count": 7,
   "id": "1e8ef33e",
   "metadata": {},
   "outputs": [
    {
     "name": "stdout",
     "output_type": "stream",
     "text": [
      "root\n",
      " |-- _c0: string (nullable = true)\n",
      " |-- asin: string (nullable = true)\n",
      " |-- helpful: string (nullable = true)\n",
      " |-- overall: integer (nullable = true)\n",
      " |-- reviewText: string (nullable = true)\n",
      " |-- reviewTime: string (nullable = true)\n",
      " |-- reviewerID: string (nullable = true)\n",
      " |-- reviewerName: string (nullable = true)\n",
      " |-- summary: string (nullable = true)\n",
      " |-- unixReviewTime: string (nullable = true)\n",
      "\n"
     ]
    }
   ],
   "source": [
    "#printing schema to know the co\n",
    "df.printSchema()"
   ]
  },
  {
   "cell_type": "code",
   "execution_count": 8,
   "id": "114f9129",
   "metadata": {},
   "outputs": [
    {
     "name": "stdout",
     "output_type": "stream",
     "text": [
      "+-------+----------------+--------------------+--------------------+------------------+--------------------+--------------------+--------------------+------------+--------------------+--------------------+\n",
      "|summary|             _c0|                asin|             helpful|           overall|          reviewText|          reviewTime|          reviewerID|reviewerName|             summary|      unixReviewTime|\n",
      "+-------+----------------+--------------------+--------------------+------------------+--------------------+--------------------+--------------------+------------+--------------------+--------------------+\n",
      "|  count|          982820|              982815|              982815|            982619|              982597|              982605|              982598|      978957|              982385|              982397|\n",
      "|   mean|        491309.0|                null|1.3761077877551022E9| 4.347801131466011|                null|   270.1666666666667|   488.4230769230769|         NaN|            Infinity| 1.379464524287035E9|\n",
      "| stddev|283657.816417951|                null|1.6564734199762316E7|0.9550557821749521|                null|   635.0612059432679|   845.9822302189059|         NaN|                 NaN|2.2912235377159476E7|\n",
      "|    min|               0| 30 Prayers Of Peace|          1329523200|                 1| &#10032; Bianca ...|  \"\" I can tell y...|                    |   \u001a Nikki \u001a|                    |  \"\"But you have ...|\n",
      "|    max|             wn\"|looking forward t...|           [99, 108]|                 5|~~~~~~~~~~~~~Doub...|     ~Layla &#9829;\"|you're left takin...|  ~lil maso~|~~~~~~~His forbid...| ~~Best Made Plans~~|\n",
      "+-------+----------------+--------------------+--------------------+------------------+--------------------+--------------------+--------------------+------------+--------------------+--------------------+\n",
      "\n"
     ]
    }
   ],
   "source": [
    "#Descriptive Analysi\n",
    "df.describe().show()"
   ]
  },
  {
   "cell_type": "code",
   "execution_count": null,
   "id": "5f6a10a7",
   "metadata": {},
   "outputs": [],
   "source": [
    "\n",
    "\n"
   ]
  },
  {
   "cell_type": "code",
   "execution_count": 9,
   "id": "aa775e60",
   "metadata": {},
   "outputs": [
    {
     "ename": "NameError",
     "evalue": "name 'kindledf' is not defined",
     "output_type": "error",
     "traceback": [
      "\u001b[1;31m---------------------------------------------------------------------------\u001b[0m",
      "\u001b[1;31mNameError\u001b[0m                                 Traceback (most recent call last)",
      "\u001b[1;32m~\\AppData\\Local\\Temp/ipykernel_17716/923245311.py\u001b[0m in \u001b[0;36m<module>\u001b[1;34m\u001b[0m\n\u001b[0;32m      1\u001b[0m \u001b[1;31m#Descriptive Analysis of overall\u001b[0m\u001b[1;33m\u001b[0m\u001b[1;33m\u001b[0m\u001b[0m\n\u001b[1;32m----> 2\u001b[1;33m \u001b[0mkindledf\u001b[0m\u001b[1;33m.\u001b[0m\u001b[0mselect\u001b[0m\u001b[1;33m(\u001b[0m\u001b[1;34m\"overall\"\u001b[0m\u001b[1;33m)\u001b[0m\u001b[1;33m.\u001b[0m\u001b[0mdescribe\u001b[0m\u001b[1;33m(\u001b[0m\u001b[1;33m)\u001b[0m\u001b[1;33m.\u001b[0m\u001b[0mshow\u001b[0m\u001b[1;33m(\u001b[0m\u001b[1;33m)\u001b[0m\u001b[1;33m\u001b[0m\u001b[1;33m\u001b[0m\u001b[0m\n\u001b[0m",
      "\u001b[1;31mNameError\u001b[0m: name 'kindledf' is not defined"
     ]
    }
   ],
   "source": [
    "#Descriptive Analysis of overall\n",
    "kindledf.select(\"overall\").describe().show()"
   ]
  },
  {
   "cell_type": "code",
   "execution_count": null,
   "id": "47e22273",
   "metadata": {},
   "outputs": [],
   "source": [
    "from pyspark.sql.functions import count, sum\n",
    "\n",
    "# Count the number of reviews per score\n",
    "review_counts = df.groupBy(\"overall\").agg(count(\"*\").alias(\"count\"))\n",
    "\n",
    "# Display the results\n",
    "review_counts.show()"
   ]
  },
  {
   "cell_type": "code",
   "execution_count": null,
   "id": "6f95dd4e",
   "metadata": {},
   "outputs": [],
   "source": [
    "pandas_df = review_counts.toPandas()\n",
    "\n",
    "# Create a bar chart\n",
    "pandas_df.plot(x='overall', y='count', kind='bar', figsize=(10,6), color=['g', 'r', 'b', 'm', 'y'])\n",
    "plt.grid()\n",
    "plt.xlabel(\"overall\")\n",
    "plt.ylabel(\"Number of Reviews Per overall\")\n",
    "plt.title(\"Distribution of Reviews Per overall\")\n",
    "\n",
    "# Show the plot\n",
    "plt.show()"
   ]
  },
  {
   "cell_type": "code",
   "execution_count": null,
   "id": "55061aa9",
   "metadata": {},
   "outputs": [],
   "source": [
    "#Descriptive Analysis of reviewername\n",
    "kindledf.select(\"reviewerName\").describe().show()"
   ]
  },
  {
   "cell_type": "code",
   "execution_count": null,
   "id": "559cb34e",
   "metadata": {},
   "outputs": [],
   "source": [
    "kindledf.na.drop().show()"
   ]
  },
  {
   "cell_type": "code",
   "execution_count": null,
   "id": "e399ca90",
   "metadata": {},
   "outputs": [],
   "source": [
    "#Number of rows and columns\n",
    "print((kindledf.count(),len(kindledf.columns)))"
   ]
  },
  {
   "cell_type": "code",
   "execution_count": null,
   "id": "98709c8a",
   "metadata": {},
   "outputs": [],
   "source": [
    "print(kindledf.count())"
   ]
  },
  {
   "cell_type": "code",
   "execution_count": null,
   "id": "1f979b3c",
   "metadata": {},
   "outputs": [],
   "source": [
    "#Distribution of reviews per score (value counts)\n",
    "\n",
    "kindledf = df.groupBy('overall').count()\n",
    "kindledf"
   ]
  },
  {
   "cell_type": "code",
   "execution_count": null,
   "id": "15ea3707",
   "metadata": {},
   "outputs": [],
   "source": [
    "kindledf_overall.show()"
   ]
  },
  {
   "cell_type": "code",
   "execution_count": null,
   "id": "61044e02",
   "metadata": {},
   "outputs": [],
   "source": [
    "import seaborn as sns\n",
    "from matplotlib import pyplot as plt"
   ]
  },
  {
   "cell_type": "code",
   "execution_count": null,
   "id": "598d4912",
   "metadata": {},
   "outputs": [],
   "source": [
    "dafr = kindledf_overall.toPandas()\n",
    "plt.figure(figsize=(8,7))\n",
    "sns.barplot(x='count', y='overall', data=dafr)\n",
    "plt.title(\"Overall scores and the Count of overall scores\")\n",
    "plt.xlim(10000,600000)\n",
    "plt.show()"
   ]
  },
  {
   "cell_type": "code",
   "execution_count": null,
   "id": "3803224c",
   "metadata": {},
   "outputs": [],
   "source": [
    "import pandas as pd\n",
    "overall_data = dafr[\"overall\"]\n",
    "count_data = dafr[\"count\"]\n",
    "fig=plt.figure(figsize=(5,5))\n",
    "fig.patch.set_facecolor('w')\n",
    "explode = (0.1,0,0,0,0)\n",
    "#Plot\n",
    "plt.pie(count_data,autopct='%1.1f%%',startangle=90,explode=explode)\n",
    "plt.title('Overall scores and their counts',bbox={'facecolor':'0.8','pad':4})\n",
    "plt.legend(overall_data,loc=\"lower left\")"
   ]
  },
  {
   "cell_type": "code",
   "execution_count": null,
   "id": "3203eb48",
   "metadata": {},
   "outputs": [],
   "source": [
    "#Creating a dataframe with the columns that will be mainly required\n",
    "amazondf = kindledf.select('overall','reviewText')"
   ]
  },
  {
   "cell_type": "code",
   "execution_count": null,
   "id": "a2de0c8d",
   "metadata": {},
   "outputs": [],
   "source": [
    "amazondf.show(5)"
   ]
  },
  {
   "cell_type": "code",
   "execution_count": null,
   "id": "906ffe97",
   "metadata": {},
   "outputs": [],
   "source": [
    "amazondf.count()"
   ]
  },
  {
   "cell_type": "markdown",
   "id": "28b78223",
   "metadata": {},
   "source": [
    "### Feature Extraction"
   ]
  },
  {
   "cell_type": "code",
   "execution_count": null,
   "id": "6be4d84a",
   "metadata": {},
   "outputs": [],
   "source": [
    "#Loading packages\n",
    "import pyspark.ml.feature"
   ]
  },
  {
   "cell_type": "code",
   "execution_count": null,
   "id": "421ae5c7",
   "metadata": {},
   "outputs": [],
   "source": [
    "#Loading transformer and extractor packages\n",
    "from pyspark.ml.feature import Tokenizer,StopWordsRemover,CountVectorizer,IDF\n",
    "from pyspark.ml.feature import StringIndexer"
   ]
  },
  {
   "cell_type": "code",
   "execution_count": null,
   "id": "cf0f46c9",
   "metadata": {},
   "outputs": [],
   "source": [
    "#Stages for Pipeline\n",
    "tokenizer = Tokenizer(inputCol='reviewText',outputCol='mytokens')\n",
    "stopwords_remover = StopWordsRemover(inputCol='mytokens',outputCol='filterd_tokens')\n",
    "vectorizer = CountVectorizer(inputCol='filtered_tokens',outputCol='rawFeatures')\n",
    "idf = IDF(inputCol='rawFeatures',outputCol='vectorizedFeatures')"
   ]
  },
  {
   "cell_type": "code",
   "execution_count": null,
   "id": "538e5176",
   "metadata": {},
   "outputs": [],
   "source": [
    "#Score indexing\n",
    "scoreIndexer = StringIndexer(inputCol='overall',outputCol='score').fit(df)\n",
    "scoreIndexer.transform(df).show(5)"
   ]
  },
  {
   "cell_type": "code",
   "execution_count": null,
   "id": "ab3147a6",
   "metadata": {},
   "outputs": [],
   "source": [
    "scoreIndexer.labels"
   ]
  },
  {
   "cell_type": "code",
   "execution_count": null,
   "id": "6805d54f",
   "metadata": {},
   "outputs": [],
   "source": [
    "#Dictionary of labels\n",
    "label_dict = {'1':0.0,'2':1.0,'3':2.0,'4':3.0,'5':4.0}"
   ]
  },
  {
   "cell_type": "code",
   "execution_count": null,
   "id": "a1de85b3",
   "metadata": {},
   "outputs": [],
   "source": [
    "amazondf.show(5)"
   ]
  },
  {
   "cell_type": "code",
   "execution_count": null,
   "id": "c463c18d",
   "metadata": {},
   "outputs": [],
   "source": [
    "#amazondf = scoreIndexer.transform(amazondf).show(5)"
   ]
  },
  {
   "cell_type": "code",
   "execution_count": null,
   "id": "cc3cb864",
   "metadata": {},
   "outputs": [],
   "source": [
    "#amazondf.na.drop().show()"
   ]
  },
  {
   "cell_type": "code",
   "execution_count": null,
   "id": "18568163",
   "metadata": {},
   "outputs": [],
   "source": [
    "# Splitting dataset\n",
    "(trainDF,testDF) = df.randomSplit((0.7,0.3),seed=42)"
   ]
  },
  {
   "cell_type": "code",
   "execution_count": null,
   "id": "ee418f4d",
   "metadata": {},
   "outputs": [],
   "source": []
  }
 ],
 "metadata": {
  "kernelspec": {
   "display_name": "Python 3 (ipykernel)",
   "language": "python",
   "name": "python3"
  },
  "language_info": {
   "codemirror_mode": {
    "name": "ipython",
    "version": 3
   },
   "file_extension": ".py",
   "mimetype": "text/x-python",
   "name": "python",
   "nbconvert_exporter": "python",
   "pygments_lexer": "ipython3",
   "version": "3.9.7"
  }
 },
 "nbformat": 4,
 "nbformat_minor": 5
}
