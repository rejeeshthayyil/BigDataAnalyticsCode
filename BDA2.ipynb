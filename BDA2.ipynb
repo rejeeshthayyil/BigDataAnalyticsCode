{
 "cells": [
  {
   "cell_type": "code",
   "execution_count": null,
   "id": "3fa235ea",
   "metadata": {},
   "outputs": [],
   "source": []
  },
  {
   "cell_type": "code",
   "execution_count": null,
   "id": "9b6ca52b",
   "metadata": {},
   "outputs": [],
   "source": []
  },
  {
   "cell_type": "code",
   "execution_count": null,
   "id": "dbaa997f",
   "metadata": {},
   "outputs": [],
   "source": []
  },
  {
   "cell_type": "code",
   "execution_count": 1,
   "id": "011af22a",
   "metadata": {},
   "outputs": [
    {
     "name": "stdout",
     "output_type": "stream",
     "text": [
      "Installing pyspark...\n",
      "\n",
      "Installing dependencies from Pipfile.lock (3a1865)...\n",
      "To activate this project's virtualenv, run pipenv shell.\n",
      "Alternatively, run a command inside the virtualenv with pipenv run.\n"
     ]
    },
    {
     "name": "stderr",
     "output_type": "stream",
     "text": [
      "\n",
      "[    ] Installing...\b\n",
      "[=   ] Installing pyspark...\b\n",
      "[==  ] Installing pyspark...\b\n",
      "[=== ] Installing pyspark...\b\n",
      "[ ===] Installing pyspark...\b\n",
      "[  ==] Installing pyspark...\b\n",
      "[   =] Installing pyspark...\b\n",
      "[    ] Installing pyspark...\b\n",
      "[   =] Installing pyspark...\b\n",
      "[  ==] Installing pyspark...\b\n",
      "[ ===] Installing pyspark...\b\n",
      "[====] Installing pyspark...\b\n",
      "[=== ] Installing pyspark...\b\n",
      "[==  ] Installing pyspark...\b\n",
      "[=   ] Installing pyspark...\b\n",
      "[    ] Installing pyspark...\b\n",
      "[=   ] Installing pyspark...\b\n",
      "[==  ] Installing pyspark...\b\n",
      "[=== ] Installing pyspark...\b\n",
      "[ ===] Installing pyspark...\b\n",
      "[  ==] Installing pyspark...\b\n",
      "[   =] Installing pyspark...\b\n",
      "[    ] Installing pyspark...\b\n",
      "[   =] Installing pyspark...\b\n",
      "[  ==] Installing pyspark...\b\n",
      "[ ===] Installing pyspark...\b\n",
      "[====] Installing pyspark...\b\n",
      "[=== ] Installing pyspark...\b\n",
      "[==  ] Installing pyspark...\b\n",
      "[=   ] Installing pyspark...\b\n",
      "[    ] Installing pyspark...\b\n",
      "[=   ] Installing pyspark...\b\n",
      "[==  ] Installing pyspark...\n",
      "Adding pyspark to Pipfile's [packages]...\n",
      "\bInstallation Succeeded \n",
      "  ================================ 0/0 - 00:00:00\n",
      "\n"
     ]
    }
   ],
   "source": [
    "!pipenv install pyspark"
   ]
  },
  {
   "cell_type": "code",
   "execution_count": 2,
   "id": "ab88c05f",
   "metadata": {},
   "outputs": [],
   "source": [
    "import pyspark\n",
    "import pandas as pd\n",
    "import pyspark.sql\n",
    "import matplotlib.pyplot as plt\n",
    "import seaborn as sns\n",
    "import time\n",
    "import findspark\n",
    "from pyspark.ml.feature import Tokenizer, RegexTokenizer,IDF\n",
    "from pyspark.ml.feature import StopWordsRemover\n",
    "from pyspark.sql.functions import col, udf\n",
    "from pyspark.sql.types import IntegerType\n",
    "%matplotlib inline\n",
    "from pyspark.ml.feature import CountVectorizer\n",
    "from pyspark import SparkContext"
   ]
  },
  {
   "cell_type": "code",
   "execution_count": 3,
   "id": "0ac9ef06",
   "metadata": {},
   "outputs": [],
   "source": [
    "findspark.init(r\"C:\\Users\\rejee\\spark-3.3.1-bin-hadoop3\")"
   ]
  },
  {
   "cell_type": "code",
   "execution_count": 4,
   "id": "595599de",
   "metadata": {},
   "outputs": [],
   "source": [
    "sc = SparkContext(master=\"local[1]\")"
   ]
  },
  {
   "cell_type": "code",
   "execution_count": 5,
   "id": "b5648753",
   "metadata": {},
   "outputs": [
    {
     "data": {
      "text/html": [
       "\n",
       "        <div>\n",
       "            <p><b>SparkContext</b></p>\n",
       "\n",
       "            <p><a href=\"http://DESKTOP-6UT81JN.home:4042\">Spark UI</a></p>\n",
       "\n",
       "            <dl>\n",
       "              <dt>Version</dt>\n",
       "                <dd><code>v3.3.1</code></dd>\n",
       "              <dt>Master</dt>\n",
       "                <dd><code>local[1]</code></dd>\n",
       "              <dt>AppName</dt>\n",
       "                <dd><code>pyspark-shell</code></dd>\n",
       "            </dl>\n",
       "        </div>\n",
       "        "
      ],
      "text/plain": [
       "<SparkContext master=local[1] appName=pyspark-shell>"
      ]
     },
     "execution_count": 5,
     "metadata": {},
     "output_type": "execute_result"
    }
   ],
   "source": [
    "sc"
   ]
  },
  {
   "cell_type": "code",
   "execution_count": 6,
   "id": "a6b09d6c",
   "metadata": {},
   "outputs": [],
   "source": [
    "from pyspark.sql import SparkSession"
   ]
  },
  {
   "cell_type": "code",
   "execution_count": null,
   "id": "ee9cd42b",
   "metadata": {},
   "outputs": [],
   "source": []
  },
  {
   "cell_type": "code",
   "execution_count": null,
   "id": "daaeb43e",
   "metadata": {},
   "outputs": [],
   "source": []
  },
  {
   "cell_type": "code",
   "execution_count": null,
   "id": "754cce8f",
   "metadata": {},
   "outputs": [],
   "source": []
  },
  {
   "cell_type": "code",
   "execution_count": 69,
   "id": "6d9546c9",
   "metadata": {},
   "outputs": [],
   "source": [
    "spark=SparkSession.builder.appName(\"Amazone\").getOrCreate()"
   ]
  },
  {
   "cell_type": "code",
   "execution_count": 8,
   "id": "8aab07e2",
   "metadata": {},
   "outputs": [
    {
     "data": {
      "text/html": [
       "\n",
       "            <div>\n",
       "                <p><b>SparkSession - in-memory</b></p>\n",
       "                \n",
       "        <div>\n",
       "            <p><b>SparkContext</b></p>\n",
       "\n",
       "            <p><a href=\"http://DESKTOP-6UT81JN.home:4042\">Spark UI</a></p>\n",
       "\n",
       "            <dl>\n",
       "              <dt>Version</dt>\n",
       "                <dd><code>v3.3.1</code></dd>\n",
       "              <dt>Master</dt>\n",
       "                <dd><code>local[1]</code></dd>\n",
       "              <dt>AppName</dt>\n",
       "                <dd><code>pyspark-shell</code></dd>\n",
       "            </dl>\n",
       "        </div>\n",
       "        \n",
       "            </div>\n",
       "        "
      ],
      "text/plain": [
       "<pyspark.sql.session.SparkSession at 0x1101496e940>"
      ]
     },
     "execution_count": 8,
     "metadata": {},
     "output_type": "execute_result"
    }
   ],
   "source": [
    "spark\n"
   ]
  },
  {
   "cell_type": "code",
   "execution_count": 9,
   "id": "73232ea4",
   "metadata": {},
   "outputs": [],
   "source": [
    "df = spark.read.load(\".\\kindle_reviews.csv\", format=\"csv\", sep=\",\", header=\"true\", inferSchema=True)"
   ]
  },
  {
   "cell_type": "code",
   "execution_count": 10,
   "id": "6c871259",
   "metadata": {},
   "outputs": [
    {
     "name": "stdout",
     "output_type": "stream",
     "text": [
      "+---+----------+-------+-------+--------------------+--------------------+--------------------+--------------------+--------------------+--------------------+\n",
      "|_c0|      asin|helpful|overall|          reviewText|          reviewTime|          reviewerID|        reviewerName|             summary|      unixReviewTime|\n",
      "+---+----------+-------+-------+--------------------+--------------------+--------------------+--------------------+--------------------+--------------------+\n",
      "|  0|B000F83SZQ| [0, 0]|      5|I enjoy vintage b...|          05 5, 2014|      A1F6404F1VG29J|          Avidreader|  Nice vintage story|          1399248000|\n",
      "|  1|B000F83SZQ| [2, 2]|      4|This book is a re...|          01 6, 2014|       AN0N05A9LIJEQ|            critters|        Different...|          1388966400|\n",
      "|  2|B000F83SZQ| [2, 2]|      4|This was a fairly...|          04 4, 2014|       A795DMNCJILA6|                 dot|               Oldie|          1396569600|\n",
      "|  3|B000F83SZQ| [1, 1]|      5|I'd never read an...|         02 19, 2014|      A1FV0SX13TWVXQ|\"Elaine H. Turley...|  I really liked it.|          1392768000|\n",
      "|  4|B000F83SZQ| [0, 1]|      4|If you like perio...|         03 19, 2014|      A3SPTOKDG7WBLN|  Father Dowling Fan|      Period Mystery|          1395187200|\n",
      "|  5|B000F83SZQ| [0, 0]|      4|A beautiful in-de...|         05 26, 2014|      A1RK2OCZDSGC6R|    ubavka seirovska|              Review|          1401062400|\n",
      "|  6|B000F83SZQ| [0, 0]|      4|I enjoyed this on...|         06 10, 2014|      A2HSAKHC3IBRE6|            Wolfmist|Nice old fashione...|          1402358400|\n",
      "|  7|B000F83SZQ| [1, 1]|      4|Never heard of Am...|         03 22, 2014|      A3DE6XGZ2EPADS|                 WPY|Enjoyable reading...|          1395446400|\n",
      "|  8|B000FA64PA| [0, 0]|      5|Darth Maul workin...|         10 11, 2013|      A1UG4Q4D3OAH3A|                 dsa|          Darth Maul|          1381449600|\n",
      "|  9|B000FA64PA| [0, 0]|      4|This is a short s...|         02 13, 2011|       AQZH7YTWQPOBE|            Enjolras|Not bad, not exce...|          1297555200|\n",
      "| 10|B000FA64PA| [0, 0]|      5|I think I have th...|         01 27, 2014|      A1ZT7WV0ZUA0OJ|                Mike|      Audio and book|          1390780800|\n",
      "| 11|B000FA64PA| [0, 0]|      4|Title has nothing...|         09 17, 2011|      A2ZFR72PT054YS|          monkeyluis|Darth Maul...the ...|          1316217600|\n",
      "| 12|B000FA64PA| [0, 0]|      3|Well written. Int...|         12 31, 2013|       A2QK1U70OJ74P|         Sharon Deem|Not bad; it is we...|          1388448000|\n",
      "| 13|B000FA64PK| [0, 0]|      3|Troy Denning's no...|         03 15, 2012|      A3SZMGJMV0G16C|\"Andrew Pruette \"...|Han and Leia reun...|          1331769600|\n",
      "| 14|B000FA64PK| [0, 0]|      5|I am not for sure...|         05 12, 2013|      A3H8PE1UFK04JZ|         Caleb Watts|  Possibly Important|          1368316800|\n",
      "| 15|B000FA64PK| [0, 0]|      5|I really enjoyed ...|          01 2, 2014|      A2EN84QHDRZLP2|          Carl craft|        Another read|          1388620800|\n",
      "| 16|B000FA64PK| [0, 0]|      5|Great read enjoye...|         10 29, 2013|      A1UG4Q4D3OAH3A|                 dsa|            Recovery|          1383004800|\n",
      "| 17|B000FA64PK| [4, 4]|      3|Another well writ...|         04 16, 2009|      A38Z3Q6DTDIH9J|\"Jimmy J. Shaw \"\"...|Star Wars: The Ne...|          1239840000|\n",
      "| 18|B000FA64PK| [0, 1]|      5|This one promises...|         01 27, 2014|      A1ZT7WV0ZUA0OJ|                Mike|       my collection|          1390780800|\n",
      "| 19|B000FA64PK| [0, 0]|      4|\"I have a version...|\"\" so I downloade...| it surely failed...|   like in the DVD's| where it's bille...| but probably not...|\n",
      "+---+----------+-------+-------+--------------------+--------------------+--------------------+--------------------+--------------------+--------------------+\n",
      "only showing top 20 rows\n",
      "\n"
     ]
    }
   ],
   "source": [
    "df.show()"
   ]
  },
  {
   "cell_type": "code",
   "execution_count": null,
   "id": "6e9bc825",
   "metadata": {},
   "outputs": [],
   "source": []
  },
  {
   "cell_type": "code",
   "execution_count": 11,
   "id": "87327c85",
   "metadata": {},
   "outputs": [
    {
     "name": "stdout",
     "output_type": "stream",
     "text": [
      "root\n",
      " |-- _c0: string (nullable = true)\n",
      " |-- asin: string (nullable = true)\n",
      " |-- helpful: string (nullable = true)\n",
      " |-- overall: integer (nullable = true)\n",
      " |-- reviewText: string (nullable = true)\n",
      " |-- reviewTime: string (nullable = true)\n",
      " |-- reviewerID: string (nullable = true)\n",
      " |-- reviewerName: string (nullable = true)\n",
      " |-- summary: string (nullable = true)\n",
      " |-- unixReviewTime: string (nullable = true)\n",
      "\n"
     ]
    }
   ],
   "source": [
    "df.printSchema()"
   ]
  },
  {
   "cell_type": "code",
   "execution_count": 12,
   "id": "7a37fb0c",
   "metadata": {},
   "outputs": [
    {
     "name": "stdout",
     "output_type": "stream",
     "text": [
      "+---+----------+-------+-------+--------------------+--------------------+--------------------+--------------------+--------------------+--------------------+\n",
      "|_c0|      asin|helpful|overall|          reviewText|          reviewTime|          reviewerID|        reviewerName|             summary|      unixReviewTime|\n",
      "+---+----------+-------+-------+--------------------+--------------------+--------------------+--------------------+--------------------+--------------------+\n",
      "|  0|B000F83SZQ| [0, 0]|      5|I enjoy vintage b...|          05 5, 2014|      A1F6404F1VG29J|          Avidreader|  Nice vintage story|          1399248000|\n",
      "|  1|B000F83SZQ| [2, 2]|      4|This book is a re...|          01 6, 2014|       AN0N05A9LIJEQ|            critters|        Different...|          1388966400|\n",
      "|  2|B000F83SZQ| [2, 2]|      4|This was a fairly...|          04 4, 2014|       A795DMNCJILA6|                 dot|               Oldie|          1396569600|\n",
      "|  3|B000F83SZQ| [1, 1]|      5|I'd never read an...|         02 19, 2014|      A1FV0SX13TWVXQ|\"Elaine H. Turley...|  I really liked it.|          1392768000|\n",
      "|  4|B000F83SZQ| [0, 1]|      4|If you like perio...|         03 19, 2014|      A3SPTOKDG7WBLN|  Father Dowling Fan|      Period Mystery|          1395187200|\n",
      "|  5|B000F83SZQ| [0, 0]|      4|A beautiful in-de...|         05 26, 2014|      A1RK2OCZDSGC6R|    ubavka seirovska|              Review|          1401062400|\n",
      "|  6|B000F83SZQ| [0, 0]|      4|I enjoyed this on...|         06 10, 2014|      A2HSAKHC3IBRE6|            Wolfmist|Nice old fashione...|          1402358400|\n",
      "|  7|B000F83SZQ| [1, 1]|      4|Never heard of Am...|         03 22, 2014|      A3DE6XGZ2EPADS|                 WPY|Enjoyable reading...|          1395446400|\n",
      "|  8|B000FA64PA| [0, 0]|      5|Darth Maul workin...|         10 11, 2013|      A1UG4Q4D3OAH3A|                 dsa|          Darth Maul|          1381449600|\n",
      "|  9|B000FA64PA| [0, 0]|      4|This is a short s...|         02 13, 2011|       AQZH7YTWQPOBE|            Enjolras|Not bad, not exce...|          1297555200|\n",
      "| 10|B000FA64PA| [0, 0]|      5|I think I have th...|         01 27, 2014|      A1ZT7WV0ZUA0OJ|                Mike|      Audio and book|          1390780800|\n",
      "| 11|B000FA64PA| [0, 0]|      4|Title has nothing...|         09 17, 2011|      A2ZFR72PT054YS|          monkeyluis|Darth Maul...the ...|          1316217600|\n",
      "| 12|B000FA64PA| [0, 0]|      3|Well written. Int...|         12 31, 2013|       A2QK1U70OJ74P|         Sharon Deem|Not bad; it is we...|          1388448000|\n",
      "| 13|B000FA64PK| [0, 0]|      3|Troy Denning's no...|         03 15, 2012|      A3SZMGJMV0G16C|\"Andrew Pruette \"...|Han and Leia reun...|          1331769600|\n",
      "| 14|B000FA64PK| [0, 0]|      5|I am not for sure...|         05 12, 2013|      A3H8PE1UFK04JZ|         Caleb Watts|  Possibly Important|          1368316800|\n",
      "| 15|B000FA64PK| [0, 0]|      5|I really enjoyed ...|          01 2, 2014|      A2EN84QHDRZLP2|          Carl craft|        Another read|          1388620800|\n",
      "| 16|B000FA64PK| [0, 0]|      5|Great read enjoye...|         10 29, 2013|      A1UG4Q4D3OAH3A|                 dsa|            Recovery|          1383004800|\n",
      "| 17|B000FA64PK| [4, 4]|      3|Another well writ...|         04 16, 2009|      A38Z3Q6DTDIH9J|\"Jimmy J. Shaw \"\"...|Star Wars: The Ne...|          1239840000|\n",
      "| 18|B000FA64PK| [0, 1]|      5|This one promises...|         01 27, 2014|      A1ZT7WV0ZUA0OJ|                Mike|       my collection|          1390780800|\n",
      "| 19|B000FA64PK| [0, 0]|      4|\"I have a version...|\"\" so I downloade...| it surely failed...|   like in the DVD's| where it's bille...| but probably not...|\n",
      "+---+----------+-------+-------+--------------------+--------------------+--------------------+--------------------+--------------------+--------------------+\n",
      "only showing top 20 rows\n",
      "\n"
     ]
    }
   ],
   "source": [
    "df.show()"
   ]
  },
  {
   "cell_type": "code",
   "execution_count": 13,
   "id": "2534b225",
   "metadata": {},
   "outputs": [],
   "source": [
    "df=df.drop('reviewTime','reviewerName','reviewerID','helpful','unixReviewTime')"
   ]
  },
  {
   "cell_type": "code",
   "execution_count": 14,
   "id": "e432a2d5",
   "metadata": {},
   "outputs": [
    {
     "name": "stdout",
     "output_type": "stream",
     "text": [
      "+---+----------+-------+--------------------+--------------------+\n",
      "|_c0|      asin|overall|          reviewText|             summary|\n",
      "+---+----------+-------+--------------------+--------------------+\n",
      "|  0|B000F83SZQ|      5|I enjoy vintage b...|  Nice vintage story|\n",
      "|  1|B000F83SZQ|      4|This book is a re...|        Different...|\n",
      "|  2|B000F83SZQ|      4|This was a fairly...|               Oldie|\n",
      "|  3|B000F83SZQ|      5|I'd never read an...|  I really liked it.|\n",
      "|  4|B000F83SZQ|      4|If you like perio...|      Period Mystery|\n",
      "|  5|B000F83SZQ|      4|A beautiful in-de...|              Review|\n",
      "|  6|B000F83SZQ|      4|I enjoyed this on...|Nice old fashione...|\n",
      "|  7|B000F83SZQ|      4|Never heard of Am...|Enjoyable reading...|\n",
      "|  8|B000FA64PA|      5|Darth Maul workin...|          Darth Maul|\n",
      "|  9|B000FA64PA|      4|This is a short s...|Not bad, not exce...|\n",
      "| 10|B000FA64PA|      5|I think I have th...|      Audio and book|\n",
      "| 11|B000FA64PA|      4|Title has nothing...|Darth Maul...the ...|\n",
      "| 12|B000FA64PA|      3|Well written. Int...|Not bad; it is we...|\n",
      "| 13|B000FA64PK|      3|Troy Denning's no...|Han and Leia reun...|\n",
      "| 14|B000FA64PK|      5|I am not for sure...|  Possibly Important|\n",
      "| 15|B000FA64PK|      5|I really enjoyed ...|        Another read|\n",
      "| 16|B000FA64PK|      5|Great read enjoye...|            Recovery|\n",
      "| 17|B000FA64PK|      3|Another well writ...|Star Wars: The Ne...|\n",
      "| 18|B000FA64PK|      5|This one promises...|       my collection|\n",
      "| 19|B000FA64PK|      4|\"I have a version...| where it's bille...|\n",
      "+---+----------+-------+--------------------+--------------------+\n",
      "only showing top 20 rows\n",
      "\n"
     ]
    }
   ],
   "source": [
    "df.show()"
   ]
  },
  {
   "cell_type": "code",
   "execution_count": 15,
   "id": "b8ed76a4",
   "metadata": {},
   "outputs": [
    {
     "name": "stdout",
     "output_type": "stream",
     "text": [
      "+-------+------+\n",
      "|overall| count|\n",
      "+-------+------+\n",
      "|   null|   201|\n",
      "|      1| 23018|\n",
      "|      3| 96194|\n",
      "|      5|575264|\n",
      "|      4|254013|\n",
      "|      2| 34130|\n",
      "+-------+------+\n",
      "\n"
     ]
    }
   ],
   "source": [
    "df1=df.groupBy('overall').count().show()\n"
   ]
  },
  {
   "cell_type": "code",
   "execution_count": null,
   "id": "71d4b1db",
   "metadata": {},
   "outputs": [],
   "source": []
  },
  {
   "cell_type": "code",
   "execution_count": 16,
   "id": "0e98b26b",
   "metadata": {},
   "outputs": [],
   "source": [
    "df=df.select('summary','overall')"
   ]
  },
  {
   "cell_type": "code",
   "execution_count": 17,
   "id": "6647cb89",
   "metadata": {},
   "outputs": [
    {
     "name": "stdout",
     "output_type": "stream",
     "text": [
      "+--------------------+-------+\n",
      "|             summary|overall|\n",
      "+--------------------+-------+\n",
      "|  Nice vintage story|      5|\n",
      "|        Different...|      4|\n",
      "|               Oldie|      4|\n",
      "|  I really liked it.|      5|\n",
      "|      Period Mystery|      4|\n",
      "|              Review|      4|\n",
      "|Nice old fashione...|      4|\n",
      "|Enjoyable reading...|      4|\n",
      "|          Darth Maul|      5|\n",
      "|Not bad, not exce...|      4|\n",
      "|      Audio and book|      5|\n",
      "|Darth Maul...the ...|      4|\n",
      "|Not bad; it is we...|      3|\n",
      "|Han and Leia reun...|      3|\n",
      "|  Possibly Important|      5|\n",
      "|        Another read|      5|\n",
      "|            Recovery|      5|\n",
      "|Star Wars: The Ne...|      3|\n",
      "|       my collection|      5|\n",
      "| where it's bille...|      4|\n",
      "+--------------------+-------+\n",
      "only showing top 20 rows\n",
      "\n"
     ]
    }
   ],
   "source": [
    "df.show()"
   ]
  },
  {
   "cell_type": "code",
   "execution_count": 18,
   "id": "ff4496a4",
   "metadata": {},
   "outputs": [
    {
     "name": "stdout",
     "output_type": "stream",
     "text": [
      "+-------+------+\n",
      "|overall| count|\n",
      "+-------+------+\n",
      "|   null|   201|\n",
      "|      1| 23018|\n",
      "|      3| 96194|\n",
      "|      5|575264|\n",
      "|      4|254013|\n",
      "|      2| 34130|\n",
      "+-------+------+\n",
      "\n"
     ]
    }
   ],
   "source": [
    "df.groupBy('overall').count().show()"
   ]
  },
  {
   "cell_type": "code",
   "execution_count": 67,
   "id": "82c871de",
   "metadata": {},
   "outputs": [
    {
     "ename": "AttributeError",
     "evalue": "'NoneType' object has no attribute 'groupBy'",
     "output_type": "error",
     "traceback": [
      "\u001b[1;31m---------------------------------------------------------------------------\u001b[0m",
      "\u001b[1;31mAttributeError\u001b[0m                            Traceback (most recent call last)",
      "\u001b[1;32m~\\AppData\\Local\\Temp/ipykernel_15316/764393376.py\u001b[0m in \u001b[0;36m<module>\u001b[1;34m\u001b[0m\n\u001b[1;32m----> 1\u001b[1;33m \u001b[0mdf\u001b[0m\u001b[1;33m=\u001b[0m\u001b[0mdf\u001b[0m\u001b[1;33m.\u001b[0m\u001b[0mgroupBy\u001b[0m\u001b[1;33m(\u001b[0m\u001b[1;34m'overall'\u001b[0m\u001b[1;33m)\u001b[0m\u001b[1;33m.\u001b[0m\u001b[0mcount\u001b[0m\u001b[1;33m(\u001b[0m\u001b[1;33m)\u001b[0m\u001b[1;33m.\u001b[0m\u001b[0mshow\u001b[0m\u001b[1;33m(\u001b[0m\u001b[1;33m)\u001b[0m\u001b[1;33m\u001b[0m\u001b[1;33m\u001b[0m\u001b[0m\n\u001b[0m",
      "\u001b[1;31mAttributeError\u001b[0m: 'NoneType' object has no attribute 'groupBy'"
     ]
    }
   ],
   "source": [
    "df=df.groupBy('overall').count().show()"
   ]
  },
  {
   "cell_type": "code",
   "execution_count": null,
   "id": "7069632a",
   "metadata": {},
   "outputs": [],
   "source": [
    "\n"
   ]
  },
  {
   "cell_type": "code",
   "execution_count": 19,
   "id": "def953eb",
   "metadata": {},
   "outputs": [
    {
     "data": {
      "text/plain": [
       "5.0    575264\n",
       "4.0    254013\n",
       "3.0     96194\n",
       "2.0     34130\n",
       "1.0     23018\n",
       "Name: overall, dtype: int64"
      ]
     },
     "execution_count": 19,
     "metadata": {},
     "output_type": "execute_result"
    }
   ],
   "source": [
    "df.toPandas()['overall'].value_counts()"
   ]
  },
  {
   "cell_type": "code",
   "execution_count": 20,
   "id": "d1afe051",
   "metadata": {},
   "outputs": [
    {
     "data": {
      "text/plain": [
       "201"
      ]
     },
     "execution_count": 20,
     "metadata": {},
     "output_type": "execute_result"
    }
   ],
   "source": [
    "df.toPandas()['overall'].isnull().sum()"
   ]
  },
  {
   "cell_type": "code",
   "execution_count": 21,
   "id": "60ec10af",
   "metadata": {},
   "outputs": [
    {
     "data": {
      "text/plain": [
       "435"
      ]
     },
     "execution_count": 21,
     "metadata": {},
     "output_type": "execute_result"
    }
   ],
   "source": [
    "df.toPandas()['summary'].isnull().sum()"
   ]
  },
  {
   "cell_type": "code",
   "execution_count": 22,
   "id": "9483ced1",
   "metadata": {},
   "outputs": [],
   "source": [
    "df = df.na.drop(subset=['summary', 'overall'])"
   ]
  },
  {
   "cell_type": "code",
   "execution_count": 23,
   "id": "e81f6543",
   "metadata": {},
   "outputs": [
    {
     "data": {
      "text/plain": [
       "0"
      ]
     },
     "execution_count": 23,
     "metadata": {},
     "output_type": "execute_result"
    }
   ],
   "source": [
    "df.toPandas()['overall'].isnull().sum()"
   ]
  },
  {
   "cell_type": "code",
   "execution_count": 24,
   "id": "70c4f26c",
   "metadata": {},
   "outputs": [
    {
     "data": {
      "text/plain": [
       "0"
      ]
     },
     "execution_count": 24,
     "metadata": {},
     "output_type": "execute_result"
    }
   ],
   "source": [
    "df.toPandas()['summary'].isnull().sum()"
   ]
  },
  {
   "cell_type": "code",
   "execution_count": 25,
   "id": "b3473ae4",
   "metadata": {},
   "outputs": [
    {
     "name": "stdout",
     "output_type": "stream",
     "text": [
      "+------------------+-------+\n",
      "|           summary|overall|\n",
      "+------------------+-------+\n",
      "|Nice vintage story|      5|\n",
      "|      Different...|      4|\n",
      "|             Oldie|      4|\n",
      "|I really liked it.|      5|\n",
      "|    Period Mystery|      4|\n",
      "+------------------+-------+\n",
      "only showing top 5 rows\n",
      "\n"
     ]
    }
   ],
   "source": [
    "df.show(5)"
   ]
  },
  {
   "cell_type": "code",
   "execution_count": 26,
   "id": "fb531eb8",
   "metadata": {},
   "outputs": [],
   "source": [
    "import pyspark.ml.feature"
   ]
  },
  {
   "cell_type": "code",
   "execution_count": 27,
   "id": "b2f803c8",
   "metadata": {},
   "outputs": [],
   "source": [
    "from pyspark.ml.feature import StringIndexer"
   ]
  },
  {
   "cell_type": "code",
   "execution_count": 28,
   "id": "bc433fbc",
   "metadata": {},
   "outputs": [],
   "source": [
    "tokenizer=Tokenizer(inputCol='summary',outputCol='review_token')\n",
    "stop_words=StopWordsRemover(inputCol='review_token',outputCol='review_stop')\n",
    "countvector=CountVectorizer(inputCol='review_stop',outputCol='review_count')\n",
    "Idf=IDF(inputCol='review_count',outputCol='Idf_features')"
   ]
  },
  {
   "cell_type": "code",
   "execution_count": 29,
   "id": "24754664",
   "metadata": {},
   "outputs": [],
   "source": [
    "labelEncoder = StringIndexer(inputCol='overall', outputCol='label').fit(df)"
   ]
  },
  {
   "cell_type": "code",
   "execution_count": 30,
   "id": "64f7e89a",
   "metadata": {},
   "outputs": [
    {
     "name": "stdout",
     "output_type": "stream",
     "text": [
      "+------------------+-------+-----+\n",
      "|           summary|overall|label|\n",
      "+------------------+-------+-----+\n",
      "|Nice vintage story|      5|  0.0|\n",
      "|      Different...|      4|  1.0|\n",
      "|             Oldie|      4|  1.0|\n",
      "|I really liked it.|      5|  0.0|\n",
      "|    Period Mystery|      4|  1.0|\n",
      "+------------------+-------+-----+\n",
      "only showing top 5 rows\n",
      "\n"
     ]
    }
   ],
   "source": [
    "labelEncoder.transform(df).show(5)"
   ]
  },
  {
   "cell_type": "code",
   "execution_count": null,
   "id": "51a3d553",
   "metadata": {},
   "outputs": [],
   "source": []
  },
  {
   "cell_type": "code",
   "execution_count": 31,
   "id": "72865c08",
   "metadata": {},
   "outputs": [
    {
     "data": {
      "text/plain": [
       "['5', '4', '3', '2', '1']"
      ]
     },
     "execution_count": 31,
     "metadata": {},
     "output_type": "execute_result"
    }
   ],
   "source": [
    "labelEncoder.labels"
   ]
  },
  {
   "cell_type": "code",
   "execution_count": 32,
   "id": "3c9bf0db",
   "metadata": {},
   "outputs": [
    {
     "name": "stdout",
     "output_type": "stream",
     "text": [
      "+--------------------+-------+\n",
      "|             summary|overall|\n",
      "+--------------------+-------+\n",
      "|  Nice vintage story|      5|\n",
      "|        Different...|      4|\n",
      "|               Oldie|      4|\n",
      "|  I really liked it.|      5|\n",
      "|      Period Mystery|      4|\n",
      "|              Review|      4|\n",
      "|Nice old fashione...|      4|\n",
      "|Enjoyable reading...|      4|\n",
      "|          Darth Maul|      5|\n",
      "|Not bad, not exce...|      4|\n",
      "|      Audio and book|      5|\n",
      "|Darth Maul...the ...|      4|\n",
      "|Not bad; it is we...|      3|\n",
      "|Han and Leia reun...|      3|\n",
      "|  Possibly Important|      5|\n",
      "|        Another read|      5|\n",
      "|            Recovery|      5|\n",
      "|Star Wars: The Ne...|      3|\n",
      "|       my collection|      5|\n",
      "| where it's bille...|      4|\n",
      "+--------------------+-------+\n",
      "only showing top 20 rows\n",
      "\n"
     ]
    }
   ],
   "source": [
    "df.show()"
   ]
  },
  {
   "cell_type": "code",
   "execution_count": 33,
   "id": "5e417c41",
   "metadata": {},
   "outputs": [],
   "source": [
    "df = labelEncoder.transform(df)"
   ]
  },
  {
   "cell_type": "code",
   "execution_count": 34,
   "id": "3fd84f5f",
   "metadata": {},
   "outputs": [
    {
     "name": "stdout",
     "output_type": "stream",
     "text": [
      "+------------------+-------+-----+\n",
      "|           summary|overall|label|\n",
      "+------------------+-------+-----+\n",
      "|Nice vintage story|      5|  0.0|\n",
      "|      Different...|      4|  1.0|\n",
      "|             Oldie|      4|  1.0|\n",
      "|I really liked it.|      5|  0.0|\n",
      "|    Period Mystery|      4|  1.0|\n",
      "+------------------+-------+-----+\n",
      "only showing top 5 rows\n",
      "\n"
     ]
    }
   ],
   "source": [
    "df.show(5)"
   ]
  },
  {
   "cell_type": "code",
   "execution_count": null,
   "id": "3c05becc",
   "metadata": {},
   "outputs": [],
   "source": []
  },
  {
   "cell_type": "code",
   "execution_count": null,
   "id": "5bb97666",
   "metadata": {},
   "outputs": [],
   "source": []
  },
  {
   "cell_type": "code",
   "execution_count": null,
   "id": "7b02e11f",
   "metadata": {},
   "outputs": [],
   "source": []
  },
  {
   "cell_type": "code",
   "execution_count": 35,
   "id": "13f58a02",
   "metadata": {},
   "outputs": [],
   "source": [
    "(trainDF,testDF)=df.randomSplit((0.7,0.3),seed=42)\n"
   ]
  },
  {
   "cell_type": "code",
   "execution_count": 36,
   "id": "78cb1b6a",
   "metadata": {},
   "outputs": [
    {
     "name": "stdout",
     "output_type": "stream",
     "text": [
      "+--------------------+-------+-----+\n",
      "|             summary|overall|label|\n",
      "+--------------------+-------+-----+\n",
      "|  Cats and romanc...|      5|  0.0|\n",
      "|       Charles Vance|      2|  3.0|\n",
      "|    Have a nice day\"|      5|  0.0|\n",
      "|  I can see a tre...|      2|  3.0|\n",
      "|  I have trouble ...|      5|  0.0|\n",
      "+--------------------+-------+-----+\n",
      "only showing top 5 rows\n",
      "\n"
     ]
    }
   ],
   "source": [
    "trainDF.show(5)"
   ]
  },
  {
   "cell_type": "code",
   "execution_count": 37,
   "id": "70287f85",
   "metadata": {},
   "outputs": [],
   "source": [
    "from pyspark.ml import Pipeline\n",
    "from pyspark.ml.classification import LogisticRegression\n",
    "from pyspark.ml.evaluation import MulticlassClassificationEvaluator"
   ]
  },
  {
   "cell_type": "code",
   "execution_count": 38,
   "id": "d266c360",
   "metadata": {},
   "outputs": [],
   "source": [
    "#df1=LabelEncoder.transform(df)"
   ]
  },
  {
   "cell_type": "code",
   "execution_count": 39,
   "id": "49d55507",
   "metadata": {},
   "outputs": [],
   "source": [
    "lr=LogisticRegression(featuresCol='Idf_features',labelCol='label')"
   ]
  },
  {
   "cell_type": "code",
   "execution_count": 40,
   "id": "6520c854",
   "metadata": {},
   "outputs": [],
   "source": [
    "pipeline = Pipeline(stages=[tokenizer,stop_words,countvector,Idf,lr])"
   ]
  },
  {
   "cell_type": "code",
   "execution_count": 41,
   "id": "6f9dbd49",
   "metadata": {},
   "outputs": [
    {
     "data": {
      "text/plain": [
       "Pipeline_f6cd4ec39cb7"
      ]
     },
     "execution_count": 41,
     "metadata": {},
     "output_type": "execute_result"
    }
   ],
   "source": [
    "pipeline"
   ]
  },
  {
   "cell_type": "code",
   "execution_count": 42,
   "id": "d2db5339",
   "metadata": {},
   "outputs": [
    {
     "data": {
      "text/plain": [
       "Param(parent='Pipeline_f6cd4ec39cb7', name='stages', doc='a list of pipeline stages')"
      ]
     },
     "execution_count": 42,
     "metadata": {},
     "output_type": "execute_result"
    }
   ],
   "source": [
    "pipeline.stages"
   ]
  },
  {
   "cell_type": "code",
   "execution_count": 43,
   "id": "c416d7fe",
   "metadata": {},
   "outputs": [],
   "source": [
    "# Building MOdel\n",
    "lr_model = pipeline.fit(trainDF)"
   ]
  },
  {
   "cell_type": "code",
   "execution_count": 44,
   "id": "229e2fec",
   "metadata": {},
   "outputs": [
    {
     "data": {
      "text/plain": [
       "PipelineModel_a0f4533ddde9"
      ]
     },
     "execution_count": 44,
     "metadata": {},
     "output_type": "execute_result"
    }
   ],
   "source": [
    "lr_model"
   ]
  },
  {
   "cell_type": "code",
   "execution_count": 45,
   "id": "6d7099e4",
   "metadata": {},
   "outputs": [],
   "source": [
    "# Predictions on our Test Dataset\n",
    "predictions = lr_model.transform(testDF)"
   ]
  },
  {
   "cell_type": "code",
   "execution_count": 46,
   "id": "e6aad1ac",
   "metadata": {},
   "outputs": [
    {
     "name": "stdout",
     "output_type": "stream",
     "text": [
      "+--------------------+-------+-----+--------------------+--------------------+--------------------+--------------------+--------------------+--------------------+----------+\n",
      "|             summary|overall|label|        review_token|         review_stop|        review_count|        Idf_features|       rawPrediction|         probability|prediction|\n",
      "+--------------------+-------+-----+--------------------+--------------------+--------------------+--------------------+--------------------+--------------------+----------+\n",
      "|              Hatrid|      4|  1.0|        [, , hatrid]|        [, , hatrid]|  (147807,[3],[2.0])|(147807,[3],[5.78...|[1.25459471351851...|[0.48018102212748...|       0.0|\n",
      "|  I look forward ...|      5|  0.0|[, , i, look, for...|[, , look, forwar...|(147807,[3,89,204...|(147807,[3,89,204...|[6.53120992248003...|[0.03847637205656...|       2.0|\n",
      "|               Keta |      5|  0.0|          [, , keta]|          [, , keta]|(147807,[3,24932]...|(147807,[3,24932]...|[7.38333631850203...|[0.99954584886883...|       0.0|\n",
      "|  a Semel will ch...|      5|  0.0|[, , a, semel, wi...|[, , semel, choos...|(147807,[3,99,168...|(147807,[3,99,168...|[11.0307083234675...|[0.49435966749339...|       1.0|\n",
      "|  and it was too ...|      3|  2.0|[, , and, it, was...|[, , easy, start,...|(147807,[3,10,53,...|(147807,[3,10,53,...|[-0.3025810869600...|[5.91574515444475...|       2.0|\n",
      "|  and kills some ...|      2|  3.0|[, , and, kills, ...|[, , kills, -, so...|(147807,[3,5,18,3...|(147807,[3,5,18,3...|[5.14255271794278...|[6.07968985632261...|       1.0|\n",
      "|  and who owned a...|      1|  4.0|[, , and, who, ow...|[, , owned, ran, ...|(147807,[3,160,10...|(147807,[3,160,10...|[19.2069723660228...|[0.99999664346831...|       0.0|\n",
      "|  his mate works ...|      4|  1.0|[, , his, mate, w...|[, , mate, works,...|(147807,[3,4,9,11...|(147807,[3,4,9,11...|[11.2788161050692...|[7.47229195248579...|       2.0|\n",
      "|  plus he purpose...|      4|  1.0|[, , plus, he, pu...|[, , plus, purpos...|(147807,[3,6,44,6...|(147807,[3,6,44,6...|[12.0376571970278...|[7.65935705387111...|       1.0|\n",
      "|  she worries abo...|      3|  2.0|[, , she, worries...|[, , worries, goe...|(147807,[3,539,27...|(147807,[3,539,27...|[7.98861088556042...|[0.81211725833333...|       0.0|\n",
      "|      steamy romance|      5|  0.0|[, , steamy, roma...|[, , steamy, roma...|(147807,[3,14,115...|(147807,[3,14,115...|[2.44333724377764...|[0.43570989948159...|       1.0|\n",
      "|  united against ...|      5|  0.0|[, , united, agai...|[, , united, evil...|(147807,[3,232,31...|(147807,[3,232,31...|[5.05731162436243...|[0.43684305418890...|       0.0|\n",
      "|  with that...it ...|      3|  2.0|[, , with, that.....|[, , that...it, w...|(147807,[3,5,11,3...|(147807,[3,5,11,3...|[2.48837093926275...|[0.11108243444862...|       2.0|\n",
      "|    yours truly !\"\"\"|      5|  0.0|[, , yours, truly...|   [, , truly, !\"\"\"]|(147807,[3,251,17...|(147807,[3,251,17...|[4.97895705571127...|[0.59660372194644...|       0.0|\n",
      "| \"\" Nicolae said....|      4|  1.0|[, \"\", nicolae, s...|[, \"\", nicolae, s...|(147807,[3,525,68...|(147807,[3,525,68...|[3.59797471496007...|[5.93508268289055...|       1.0|\n",
      "| \"\"--despite the ...|      5|  0.0|[, \"\"--despite, t...|[, \"\"--despite, d...|(147807,[3,879,34...|(147807,[3,879,34...|[2.87095751290884...|[0.41014218445845...|       1.0|\n",
      "|          \"\"-esque\"\"|      1|  4.0|      [, \"\"-esque\"\"]|      [, \"\"-esque\"\"]|  (147807,[3],[1.0])|(147807,[3],[2.89...|[1.12944895749348...|[0.46494687022652...|       0.0|\n",
      "| \"\"A Work in Prog...|      5|  0.0|[, \"\"a, work, in,...|[, \"\"a, work, pro...|(147807,[3,4,6,12...|(147807,[3,4,6,12...|[27.6537785041977...|[0.99999998900134...|       0.0|\n",
      "| \"\"And don't call...|      5|  0.0|[, \"\"and, don't, ...|[, \"\"and, call, s...|(147807,[3,725,14...|(147807,[3,725,14...|[6.04942605871125...|[0.67631189149219...|       0.0|\n",
      "| \"\"And where zomb...|      4|  1.0|[, \"\"and, where, ...|[, \"\"and, zombie-...|(147807,[3,1658,2...|(147807,[3,1658,2...|[15.2669437823306...|[0.99999993217375...|       0.0|\n",
      "+--------------------+-------+-----+--------------------+--------------------+--------------------+--------------------+--------------------+--------------------+----------+\n",
      "only showing top 20 rows\n",
      "\n"
     ]
    }
   ],
   "source": [
    "predictions.show()"
   ]
  },
  {
   "cell_type": "code",
   "execution_count": 47,
   "id": "21652331",
   "metadata": {},
   "outputs": [
    {
     "data": {
      "text/plain": [
       "['summary',\n",
       " 'overall',\n",
       " 'label',\n",
       " 'review_token',\n",
       " 'review_stop',\n",
       " 'review_count',\n",
       " 'Idf_features',\n",
       " 'rawPrediction',\n",
       " 'probability',\n",
       " 'prediction']"
      ]
     },
     "execution_count": 47,
     "metadata": {},
     "output_type": "execute_result"
    }
   ],
   "source": [
    "# Select Columns\n",
    "predictions.columns"
   ]
  },
  {
   "cell_type": "code",
   "execution_count": 48,
   "id": "0d21fe67",
   "metadata": {},
   "outputs": [
    {
     "name": "stdout",
     "output_type": "stream",
     "text": [
      "+--------------------+--------------------+--------------------+-----+----------+\n",
      "|       rawPrediction|         probability|             summary|label|prediction|\n",
      "+--------------------+--------------------+--------------------+-----+----------+\n",
      "|[1.25459471351851...|[0.48018102212748...|              Hatrid|  1.0|       0.0|\n",
      "|[6.53120992248003...|[0.03847637205656...|  I look forward ...|  0.0|       2.0|\n",
      "|[7.38333631850203...|[0.99954584886883...|               Keta |  0.0|       0.0|\n",
      "|[11.0307083234675...|[0.49435966749339...|  a Semel will ch...|  0.0|       1.0|\n",
      "|[-0.3025810869600...|[5.91574515444475...|  and it was too ...|  2.0|       2.0|\n",
      "|[5.14255271794278...|[6.07968985632261...|  and kills some ...|  3.0|       1.0|\n",
      "|[19.2069723660228...|[0.99999664346831...|  and who owned a...|  4.0|       0.0|\n",
      "|[11.2788161050692...|[7.47229195248579...|  his mate works ...|  1.0|       2.0|\n",
      "|[12.0376571970278...|[7.65935705387111...|  plus he purpose...|  1.0|       1.0|\n",
      "|[7.98861088556042...|[0.81211725833333...|  she worries abo...|  2.0|       0.0|\n",
      "+--------------------+--------------------+--------------------+-----+----------+\n",
      "only showing top 10 rows\n",
      "\n"
     ]
    }
   ],
   "source": [
    "predictions.select('rawPrediction','probability','summary','label','prediction').show(10)"
   ]
  },
  {
   "cell_type": "code",
   "execution_count": 49,
   "id": "ec614360",
   "metadata": {},
   "outputs": [],
   "source": [
    "from pyspark.ml.evaluation import MulticlassClassificationEvaluator"
   ]
  },
  {
   "cell_type": "code",
   "execution_count": 50,
   "id": "706c7f4b",
   "metadata": {},
   "outputs": [],
   "source": [
    "evaluator = MulticlassClassificationEvaluator(labelCol='label',predictionCol='prediction',metricName='accuracy')"
   ]
  },
  {
   "cell_type": "code",
   "execution_count": 51,
   "id": "f9b8813e",
   "metadata": {},
   "outputs": [],
   "source": [
    "accuracy = evaluator.evaluate(predictions)"
   ]
  },
  {
   "cell_type": "code",
   "execution_count": 52,
   "id": "420451e9",
   "metadata": {},
   "outputs": [
    {
     "data": {
      "text/plain": [
       "0.6128843875094643"
      ]
     },
     "execution_count": 52,
     "metadata": {},
     "output_type": "execute_result"
    }
   ],
   "source": [
    "accuracy"
   ]
  },
  {
   "cell_type": "code",
   "execution_count": 53,
   "id": "8ecbf71a",
   "metadata": {},
   "outputs": [],
   "source": [
    "from pyspark.mllib.evaluation import MulticlassMetrics"
   ]
  },
  {
   "cell_type": "code",
   "execution_count": 54,
   "id": "a05fcf0a",
   "metadata": {},
   "outputs": [
    {
     "name": "stderr",
     "output_type": "stream",
     "text": [
      "C:\\Users\\rejee\\anaconda3\\lib\\site-packages\\pyspark\\sql\\context.py:157: FutureWarning: Deprecated in 3.0.0. Use SparkSession.builder.getOrCreate() instead.\n",
      "  warnings.warn(\n"
     ]
    }
   ],
   "source": [
    "lr_metric = MulticlassMetrics(predictions['label','prediction'].rdd)"
   ]
  },
  {
   "cell_type": "code",
   "execution_count": 55,
   "id": "e4261239",
   "metadata": {},
   "outputs": [
    {
     "name": "stdout",
     "output_type": "stream",
     "text": [
      "Accuracy: 0.6128843875094643\n",
      "Precision: 0.30615117472177644\n",
      "Recall: 0.43436794266410345\n",
      "F1Score: 0.3591595484463375\n"
     ]
    }
   ],
   "source": [
    "print(\"Accuracy:\",lr_metric.accuracy)\n",
    "print(\"Precision:\",lr_metric.precision(1.0))\n",
    "print(\"Recall:\",lr_metric.recall(1.0))\n",
    "print(\"F1Score:\",lr_metric.fMeasure(1.0))"
   ]
  },
  {
   "cell_type": "code",
   "execution_count": 56,
   "id": "f67856e3",
   "metadata": {},
   "outputs": [],
   "source": [
    "y_true = predictions.select('label')\n",
    "y_true = y_true.toPandas()\n",
    "y_pred = predictions.select('prediction')\n",
    "y_pred = y_pred.toPandas()"
   ]
  },
  {
   "cell_type": "code",
   "execution_count": 57,
   "id": "5305a5fc",
   "metadata": {},
   "outputs": [],
   "source": [
    "from sklearn.metrics import confusion_matrix,classification_report"
   ]
  },
  {
   "cell_type": "code",
   "execution_count": 58,
   "id": "746690db",
   "metadata": {},
   "outputs": [],
   "source": [
    "cm = confusion_matrix(y_true,y_pred)"
   ]
  },
  {
   "cell_type": "code",
   "execution_count": 59,
   "id": "00f7b13f",
   "metadata": {},
   "outputs": [
    {
     "data": {
      "text/plain": [
       "array([[145636,  20873,   3635,   1249,   1050],\n",
       "       [ 46901,  23273,   4392,    868,    584],\n",
       "       [ 11239,   7579,   7858,   1456,    669],\n",
       "       [  4080,   1226,   2182,   1773,   1044],\n",
       "       [  2616,    628,    772,    973,   1971]], dtype=int64)"
      ]
     },
     "execution_count": 59,
     "metadata": {},
     "output_type": "execute_result"
    }
   ],
   "source": [
    "cm"
   ]
  },
  {
   "cell_type": "code",
   "execution_count": null,
   "id": "9a83a848",
   "metadata": {},
   "outputs": [],
   "source": []
  }
 ],
 "metadata": {
  "kernelspec": {
   "display_name": "Python 3 (ipykernel)",
   "language": "python",
   "name": "python3"
  },
  "language_info": {
   "codemirror_mode": {
    "name": "ipython",
    "version": 3
   },
   "file_extension": ".py",
   "mimetype": "text/x-python",
   "name": "python",
   "nbconvert_exporter": "python",
   "pygments_lexer": "ipython3",
   "version": "3.9.7"
  }
 },
 "nbformat": 4,
 "nbformat_minor": 5
}
