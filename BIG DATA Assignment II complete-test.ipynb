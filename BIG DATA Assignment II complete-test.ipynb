{
 "cells": [
  {
   "cell_type": "code",
   "execution_count": null,
   "id": "3fa235ea",
   "metadata": {},
   "outputs": [],
   "source": []
  },
  {
   "cell_type": "markdown",
   "id": "515d84ec",
   "metadata": {},
   "source": [
    "# CMS3504-7504 Big Data Analysis - Assignment 2"
   ]
  },
  {
   "cell_type": "code",
   "execution_count": null,
   "id": "0f32202b",
   "metadata": {},
   "outputs": [],
   "source": []
  },
  {
   "cell_type": "code",
   "execution_count": 1,
   "id": "dbaa997f",
   "metadata": {},
   "outputs": [
    {
     "name": "stdout",
     "output_type": "stream",
     "text": [
      "Requirement already satisfied: wordcloud in c:\\users\\rejee\\anaconda3\\lib\\site-packages (1.8.2.2)\n",
      "Requirement already satisfied: matplotlib in c:\\users\\rejee\\anaconda3\\lib\\site-packages (from wordcloud) (3.4.3)\n",
      "Requirement already satisfied: pillow in c:\\users\\rejee\\anaconda3\\lib\\site-packages (from wordcloud) (8.4.0)\n",
      "Requirement already satisfied: numpy>=1.6.1 in c:\\users\\rejee\\anaconda3\\lib\\site-packages (from wordcloud) (1.20.3)\n",
      "Requirement already satisfied: kiwisolver>=1.0.1 in c:\\users\\rejee\\anaconda3\\lib\\site-packages (from matplotlib->wordcloud) (1.3.1)\n",
      "Requirement already satisfied: pyparsing>=2.2.1 in c:\\users\\rejee\\anaconda3\\lib\\site-packages (from matplotlib->wordcloud) (3.0.4)\n",
      "Requirement already satisfied: cycler>=0.10 in c:\\users\\rejee\\anaconda3\\lib\\site-packages (from matplotlib->wordcloud) (0.10.0)\n",
      "Requirement already satisfied: python-dateutil>=2.7 in c:\\users\\rejee\\anaconda3\\lib\\site-packages (from matplotlib->wordcloud) (2.8.2)\n",
      "Requirement already satisfied: six in c:\\users\\rejee\\anaconda3\\lib\\site-packages (from cycler>=0.10->matplotlib->wordcloud) (1.16.0)\n"
     ]
    }
   ],
   "source": [
    "!pip install wordcloud\n",
    "\n"
   ]
  },
  {
   "cell_type": "code",
   "execution_count": 2,
   "id": "558cb2ac",
   "metadata": {},
   "outputs": [],
   "source": [
    "from wordcloud import WordCloud, STOPWORDS\n",
    "import numpy as np"
   ]
  },
  {
   "cell_type": "code",
   "execution_count": 3,
   "id": "011af22a",
   "metadata": {},
   "outputs": [
    {
     "name": "stdout",
     "output_type": "stream",
     "text": [
      "Installing pyspark...\n",
      "\n",
      "Installing dependencies from Pipfile.lock (3a1865)...\n",
      "To activate this project's virtualenv, run pipenv shell.\n",
      "Alternatively, run a command inside the virtualenv with pipenv run.\n"
     ]
    },
    {
     "name": "stderr",
     "output_type": "stream",
     "text": [
      "\n",
      "[    ] Installing...\b\n",
      "[=   ] Installing pyspark...\b\n",
      "[==  ] Installing pyspark...\b\n",
      "[=== ] Installing pyspark...\b\n",
      "[ ===] Installing pyspark...\b\n",
      "[  ==] Installing pyspark...\b\n",
      "[   =] Installing pyspark...\b\n",
      "[    ] Installing pyspark...\b\n",
      "[   =] Installing pyspark...\b\n",
      "[  ==] Installing pyspark...\b\n",
      "[ ===] Installing pyspark...\b\n",
      "[====] Installing pyspark...\b\n",
      "[=== ] Installing pyspark...\b\n",
      "[==  ] Installing pyspark...\b\n",
      "[=   ] Installing pyspark...\b\n",
      "[    ] Installing pyspark...\b\n",
      "[=   ] Installing pyspark...\b\n",
      "[==  ] Installing pyspark...\b\n",
      "[=== ] Installing pyspark...\b\n",
      "[ ===] Installing pyspark...\b\n",
      "[  ==] Installing pyspark...\b\n",
      "[   =] Installing pyspark...\b\n",
      "[    ] Installing pyspark...\b\n",
      "[   =] Installing pyspark...\b\n",
      "[  ==] Installing pyspark...\b\n",
      "[ ===] Installing pyspark...\b\n",
      "[====] Installing pyspark...\b\n",
      "[=== ] Installing pyspark...\b\n",
      "[==  ] Installing pyspark...\b\n",
      "[=   ] Installing pyspark...\b\n",
      "[    ] Installing pyspark...\b\n",
      "[=   ] Installing pyspark...\b\n",
      "[==  ] Installing pyspark...\b\n",
      "[=== ] Installing pyspark...\b\n",
      "[ ===] Installing pyspark...\b\n",
      "[  ==] Installing pyspark...\b\n",
      "[   =] Installing pyspark...\b\n",
      "[    ] Installing pyspark...\b\n",
      "[   =] Installing pyspark...\b\n",
      "[  ==] Installing pyspark...\b\n",
      "[ ===] Installing pyspark...\b\n",
      "[====] Installing pyspark...\b\n",
      "[=== ] Installing pyspark...\b\n",
      "[==  ] Installing pyspark...\b\n",
      "[=   ] Installing pyspark...\b\n",
      "[    ] Installing pyspark...\b\n",
      "[=   ] Installing pyspark...\n",
      "Adding pyspark to Pipfile's [packages]...\n",
      "\bInstallation Succeeded \n",
      "  ================================ 0/0 - 00:00:00\n",
      "\n"
     ]
    }
   ],
   "source": [
    "!pipenv install pyspark"
   ]
  },
  {
   "cell_type": "code",
   "execution_count": 4,
   "id": "ab88c05f",
   "metadata": {},
   "outputs": [],
   "source": [
    "import pyspark\n",
    "import pandas as pd\n",
    "import pyspark.sql\n",
    "import matplotlib.pyplot as plt\n",
    "import seaborn as sns\n",
    "import time\n",
    "import findspark\n",
    "from pyspark.ml.feature import Tokenizer, RegexTokenizer,IDF\n",
    "from pyspark.ml.feature import StopWordsRemover\n",
    "from pyspark.sql.functions import col, udf\n",
    "from pyspark.sql.types import IntegerType\n",
    "%matplotlib inline\n",
    "from pyspark.ml.feature import CountVectorizer\n",
    "from pyspark import SparkContext"
   ]
  },
  {
   "cell_type": "code",
   "execution_count": 5,
   "id": "0ac9ef06",
   "metadata": {},
   "outputs": [],
   "source": [
    "findspark.init(r\"C:\\Users\\rejee\\spark-3.3.1-bin-hadoop3\")"
   ]
  },
  {
   "cell_type": "code",
   "execution_count": 6,
   "id": "595599de",
   "metadata": {},
   "outputs": [],
   "source": [
    "sc = SparkContext(master=\"local[1]\")"
   ]
  },
  {
   "cell_type": "code",
   "execution_count": 7,
   "id": "b5648753",
   "metadata": {},
   "outputs": [
    {
     "data": {
      "text/html": [
       "\n",
       "        <div>\n",
       "            <p><b>SparkContext</b></p>\n",
       "\n",
       "            <p><a href=\"http://DESKTOP-6UT81JN.home:4046\">Spark UI</a></p>\n",
       "\n",
       "            <dl>\n",
       "              <dt>Version</dt>\n",
       "                <dd><code>v3.3.1</code></dd>\n",
       "              <dt>Master</dt>\n",
       "                <dd><code>local[1]</code></dd>\n",
       "              <dt>AppName</dt>\n",
       "                <dd><code>pyspark-shell</code></dd>\n",
       "            </dl>\n",
       "        </div>\n",
       "        "
      ],
      "text/plain": [
       "<SparkContext master=local[1] appName=pyspark-shell>"
      ]
     },
     "execution_count": 7,
     "metadata": {},
     "output_type": "execute_result"
    }
   ],
   "source": [
    "sc"
   ]
  },
  {
   "cell_type": "code",
   "execution_count": 8,
   "id": "a6b09d6c",
   "metadata": {},
   "outputs": [],
   "source": [
    "from pyspark.sql import SparkSession"
   ]
  },
  {
   "cell_type": "code",
   "execution_count": null,
   "id": "ee9cd42b",
   "metadata": {},
   "outputs": [],
   "source": []
  },
  {
   "cell_type": "code",
   "execution_count": null,
   "id": "daaeb43e",
   "metadata": {},
   "outputs": [],
   "source": []
  },
  {
   "cell_type": "code",
   "execution_count": null,
   "id": "754cce8f",
   "metadata": {},
   "outputs": [],
   "source": []
  },
  {
   "cell_type": "code",
   "execution_count": 9,
   "id": "6d9546c9",
   "metadata": {},
   "outputs": [],
   "source": [
    "spark=SparkSession.builder.appName(\"Amazone\").getOrCreate()"
   ]
  },
  {
   "cell_type": "code",
   "execution_count": 10,
   "id": "8aab07e2",
   "metadata": {},
   "outputs": [
    {
     "data": {
      "text/html": [
       "\n",
       "            <div>\n",
       "                <p><b>SparkSession - in-memory</b></p>\n",
       "                \n",
       "        <div>\n",
       "            <p><b>SparkContext</b></p>\n",
       "\n",
       "            <p><a href=\"http://DESKTOP-6UT81JN.home:4046\">Spark UI</a></p>\n",
       "\n",
       "            <dl>\n",
       "              <dt>Version</dt>\n",
       "                <dd><code>v3.3.1</code></dd>\n",
       "              <dt>Master</dt>\n",
       "                <dd><code>local[1]</code></dd>\n",
       "              <dt>AppName</dt>\n",
       "                <dd><code>pyspark-shell</code></dd>\n",
       "            </dl>\n",
       "        </div>\n",
       "        \n",
       "            </div>\n",
       "        "
      ],
      "text/plain": [
       "<pyspark.sql.session.SparkSession at 0x207a59371c0>"
      ]
     },
     "execution_count": 10,
     "metadata": {},
     "output_type": "execute_result"
    }
   ],
   "source": [
    "spark\n"
   ]
  },
  {
   "cell_type": "code",
   "execution_count": 11,
   "id": "73232ea4",
   "metadata": {},
   "outputs": [],
   "source": [
    "df = spark.read.load(\".\\kindle_reviews.csv\", format=\"csv\", sep=\",\", header=\"true\", inferSchema=True)"
   ]
  },
  {
   "cell_type": "code",
   "execution_count": 12,
   "id": "6c871259",
   "metadata": {},
   "outputs": [
    {
     "name": "stdout",
     "output_type": "stream",
     "text": [
      "+---+----------+-------+-------+--------------------+--------------------+--------------------+--------------------+--------------------+--------------------+\n",
      "|_c0|      asin|helpful|overall|          reviewText|          reviewTime|          reviewerID|        reviewerName|             summary|      unixReviewTime|\n",
      "+---+----------+-------+-------+--------------------+--------------------+--------------------+--------------------+--------------------+--------------------+\n",
      "|  0|B000F83SZQ| [0, 0]|      5|I enjoy vintage b...|          05 5, 2014|      A1F6404F1VG29J|          Avidreader|  Nice vintage story|          1399248000|\n",
      "|  1|B000F83SZQ| [2, 2]|      4|This book is a re...|          01 6, 2014|       AN0N05A9LIJEQ|            critters|        Different...|          1388966400|\n",
      "|  2|B000F83SZQ| [2, 2]|      4|This was a fairly...|          04 4, 2014|       A795DMNCJILA6|                 dot|               Oldie|          1396569600|\n",
      "|  3|B000F83SZQ| [1, 1]|      5|I'd never read an...|         02 19, 2014|      A1FV0SX13TWVXQ|\"Elaine H. Turley...|  I really liked it.|          1392768000|\n",
      "|  4|B000F83SZQ| [0, 1]|      4|If you like perio...|         03 19, 2014|      A3SPTOKDG7WBLN|  Father Dowling Fan|      Period Mystery|          1395187200|\n",
      "|  5|B000F83SZQ| [0, 0]|      4|A beautiful in-de...|         05 26, 2014|      A1RK2OCZDSGC6R|    ubavka seirovska|              Review|          1401062400|\n",
      "|  6|B000F83SZQ| [0, 0]|      4|I enjoyed this on...|         06 10, 2014|      A2HSAKHC3IBRE6|            Wolfmist|Nice old fashione...|          1402358400|\n",
      "|  7|B000F83SZQ| [1, 1]|      4|Never heard of Am...|         03 22, 2014|      A3DE6XGZ2EPADS|                 WPY|Enjoyable reading...|          1395446400|\n",
      "|  8|B000FA64PA| [0, 0]|      5|Darth Maul workin...|         10 11, 2013|      A1UG4Q4D3OAH3A|                 dsa|          Darth Maul|          1381449600|\n",
      "|  9|B000FA64PA| [0, 0]|      4|This is a short s...|         02 13, 2011|       AQZH7YTWQPOBE|            Enjolras|Not bad, not exce...|          1297555200|\n",
      "| 10|B000FA64PA| [0, 0]|      5|I think I have th...|         01 27, 2014|      A1ZT7WV0ZUA0OJ|                Mike|      Audio and book|          1390780800|\n",
      "| 11|B000FA64PA| [0, 0]|      4|Title has nothing...|         09 17, 2011|      A2ZFR72PT054YS|          monkeyluis|Darth Maul...the ...|          1316217600|\n",
      "| 12|B000FA64PA| [0, 0]|      3|Well written. Int...|         12 31, 2013|       A2QK1U70OJ74P|         Sharon Deem|Not bad; it is we...|          1388448000|\n",
      "| 13|B000FA64PK| [0, 0]|      3|Troy Denning's no...|         03 15, 2012|      A3SZMGJMV0G16C|\"Andrew Pruette \"...|Han and Leia reun...|          1331769600|\n",
      "| 14|B000FA64PK| [0, 0]|      5|I am not for sure...|         05 12, 2013|      A3H8PE1UFK04JZ|         Caleb Watts|  Possibly Important|          1368316800|\n",
      "| 15|B000FA64PK| [0, 0]|      5|I really enjoyed ...|          01 2, 2014|      A2EN84QHDRZLP2|          Carl craft|        Another read|          1388620800|\n",
      "| 16|B000FA64PK| [0, 0]|      5|Great read enjoye...|         10 29, 2013|      A1UG4Q4D3OAH3A|                 dsa|            Recovery|          1383004800|\n",
      "| 17|B000FA64PK| [4, 4]|      3|Another well writ...|         04 16, 2009|      A38Z3Q6DTDIH9J|\"Jimmy J. Shaw \"\"...|Star Wars: The Ne...|          1239840000|\n",
      "| 18|B000FA64PK| [0, 1]|      5|This one promises...|         01 27, 2014|      A1ZT7WV0ZUA0OJ|                Mike|       my collection|          1390780800|\n",
      "| 19|B000FA64PK| [0, 0]|      4|\"I have a version...|\"\" so I downloade...| it surely failed...|   like in the DVD's| where it's bille...| but probably not...|\n",
      "+---+----------+-------+-------+--------------------+--------------------+--------------------+--------------------+--------------------+--------------------+\n",
      "only showing top 20 rows\n",
      "\n"
     ]
    }
   ],
   "source": [
    "df.show()"
   ]
  },
  {
   "cell_type": "code",
   "execution_count": 13,
   "id": "64f620b8",
   "metadata": {},
   "outputs": [
    {
     "name": "stdout",
     "output_type": "stream",
     "text": [
      "Requirement already satisfied: pyspark in c:\\users\\rejee\\anaconda3\\lib\\site-packages (3.3.1)\n",
      "Requirement already satisfied: py4j==0.10.9.5 in c:\\users\\rejee\\anaconda3\\lib\\site-packages (from pyspark) (0.10.9.5)\n",
      "Note: you may need to restart the kernel to use updated packages.\n"
     ]
    }
   ],
   "source": [
    "pip install pyspark --upgrade"
   ]
  },
  {
   "cell_type": "code",
   "execution_count": 14,
   "id": "6e9bc825",
   "metadata": {},
   "outputs": [
    {
     "data": {
      "image/png": "[encoded data removed]",
      "text/plain": [
       "<Figure size 720x432 with 1 Axes>"
      ]
     },
     "metadata": {
      "needs_background": "light"
     },
     "output_type": "display_data"
    }
   ],
   "source": [
    "\n",
    "from pyspark.sql.functions import count\n",
    "\n",
    "# Count the number of reviews per reviewer\n",
    "reviewer_counts = df.groupBy(\"reviewerID\").agg(count(\"*\").alias(\"count\"))\n",
    "\n",
    "# Sort the dataframe by the number of reviews in descending order and take the top 10 reviewers\n",
    "top_reviewers = reviewer_counts.sort(\"count\", ascending=False).limit(10)\n",
    "\n",
    "# Convert the PySpark dataframe to a pandas dataframe\n",
    "pandas_df = top_reviewers.toPandas()\n",
    "\n",
    "# Create a bar chart\n",
    "pandas_df.plot(x='reviewerID', y='count', kind='bar', figsize=(10,6), color=['g', 'r', 'b', 'm', 'y'])\n",
    "\n",
    "plt.grid()\n",
    "plt.xlabel(\"Total number of review \")\n",
    "plt.ylabel(\"Reviewer ID\")\n",
    "plt.title(\"Top ten Reviewers\")\n",
    "\n",
    "# Show the plot\n",
    "plt.show()\n",
    "#df.reviewerID.value_counts().head(10).plot(kind = 'bar')\n",
    "#plt.xticks(rotation = 80)\n",
    "#plt.xlabel('UserID')\n",
    "#plt.ylabel('Number of Reviews')\n",
    "#plt.show()"
   ]
  },
  {
   "cell_type": "code",
   "execution_count": 15,
   "id": "c8f0f3a4",
   "metadata": {
    "scrolled": true
   },
   "outputs": [
    {
     "name": "stdout",
     "output_type": "stream",
     "text": [
      "+-------+--------------------+-----+\n",
      "|overall|          reviewTime|count|\n",
      "+-------+--------------------+-----+\n",
      "|      4|          10 5, 2013|  274|\n",
      "|      5|         01 21, 2010|    4|\n",
      "|      5| Rose feels good ...|    1|\n",
      "|      1|         02 20, 2014|   44|\n",
      "|      5|         01 21, 2011|   10|\n",
      "|      3|         02 20, 2010|    1|\n",
      "|      4|         01 24, 2013|  179|\n",
      "|      3|         11 19, 2013|  146|\n",
      "|      4| rather the chara...|    1|\n",
      "|      5|         06 22, 2011|   34|\n",
      "|      5|          02 5, 2013|  511|\n",
      "|      3|         02 12, 2012|   16|\n",
      "|      4| but I didn't rea...|    1|\n",
      "|      3|         03 18, 2013|  122|\n",
      "|      2|          05 9, 2010|    1|\n",
      "|      1|          07 9, 2013|   21|\n",
      "|      4|         01 11, 2010|    2|\n",
      "|      5|          01 8, 2010|    4|\n",
      "|      2|         07 23, 2010|    1|\n",
      "|      5|             in fact|    9|\n",
      "+-------+--------------------+-----+\n",
      "only showing top 20 rows\n",
      "\n"
     ]
    }
   ],
   "source": [
    "ctab = df.groupBy(\"overall\", \"reviewTime\").agg(count(\"*\").alias(\"count\"))\n",
    "ctab.show()\n",
    "\n",
    "\n",
    "\n"
   ]
  },
  {
   "cell_type": "code",
   "execution_count": 16,
   "id": "87327c85",
   "metadata": {},
   "outputs": [
    {
     "name": "stdout",
     "output_type": "stream",
     "text": [
      "root\n",
      " |-- _c0: string (nullable = true)\n",
      " |-- asin: string (nullable = true)\n",
      " |-- helpful: string (nullable = true)\n",
      " |-- overall: integer (nullable = true)\n",
      " |-- reviewText: string (nullable = true)\n",
      " |-- reviewTime: string (nullable = true)\n",
      " |-- reviewerID: string (nullable = true)\n",
      " |-- reviewerName: string (nullable = true)\n",
      " |-- summary: string (nullable = true)\n",
      " |-- unixReviewTime: string (nullable = true)\n",
      "\n"
     ]
    }
   ],
   "source": [
    "df.printSchema()"
   ]
  },
  {
   "cell_type": "code",
   "execution_count": 17,
   "id": "7a37fb0c",
   "metadata": {},
   "outputs": [
    {
     "name": "stdout",
     "output_type": "stream",
     "text": [
      "+---+----------+-------+-------+--------------------+--------------------+--------------------+--------------------+--------------------+--------------------+\n",
      "|_c0|      asin|helpful|overall|          reviewText|          reviewTime|          reviewerID|        reviewerName|             summary|      unixReviewTime|\n",
      "+---+----------+-------+-------+--------------------+--------------------+--------------------+--------------------+--------------------+--------------------+\n",
      "|  0|B000F83SZQ| [0, 0]|      5|I enjoy vintage b...|          05 5, 2014|      A1F6404F1VG29J|          Avidreader|  Nice vintage story|          1399248000|\n",
      "|  1|B000F83SZQ| [2, 2]|      4|This book is a re...|          01 6, 2014|       AN0N05A9LIJEQ|            critters|        Different...|          1388966400|\n",
      "|  2|B000F83SZQ| [2, 2]|      4|This was a fairly...|          04 4, 2014|       A795DMNCJILA6|                 dot|               Oldie|          1396569600|\n",
      "|  3|B000F83SZQ| [1, 1]|      5|I'd never read an...|         02 19, 2014|      A1FV0SX13TWVXQ|\"Elaine H. Turley...|  I really liked it.|          1392768000|\n",
      "|  4|B000F83SZQ| [0, 1]|      4|If you like perio...|         03 19, 2014|      A3SPTOKDG7WBLN|  Father Dowling Fan|      Period Mystery|          1395187200|\n",
      "|  5|B000F83SZQ| [0, 0]|      4|A beautiful in-de...|         05 26, 2014|      A1RK2OCZDSGC6R|    ubavka seirovska|              Review|          1401062400|\n",
      "|  6|B000F83SZQ| [0, 0]|      4|I enjoyed this on...|         06 10, 2014|      A2HSAKHC3IBRE6|            Wolfmist|Nice old fashione...|          1402358400|\n",
      "|  7|B000F83SZQ| [1, 1]|      4|Never heard of Am...|         03 22, 2014|      A3DE6XGZ2EPADS|                 WPY|Enjoyable reading...|          1395446400|\n",
      "|  8|B000FA64PA| [0, 0]|      5|Darth Maul workin...|         10 11, 2013|      A1UG4Q4D3OAH3A|                 dsa|          Darth Maul|          1381449600|\n",
      "|  9|B000FA64PA| [0, 0]|      4|This is a short s...|         02 13, 2011|       AQZH7YTWQPOBE|            Enjolras|Not bad, not exce...|          1297555200|\n",
      "| 10|B000FA64PA| [0, 0]|      5|I think I have th...|         01 27, 2014|      A1ZT7WV0ZUA0OJ|                Mike|      Audio and book|          1390780800|\n",
      "| 11|B000FA64PA| [0, 0]|      4|Title has nothing...|         09 17, 2011|      A2ZFR72PT054YS|          monkeyluis|Darth Maul...the ...|          1316217600|\n",
      "| 12|B000FA64PA| [0, 0]|      3|Well written. Int...|         12 31, 2013|       A2QK1U70OJ74P|         Sharon Deem|Not bad; it is we...|          1388448000|\n",
      "| 13|B000FA64PK| [0, 0]|      3|Troy Denning's no...|         03 15, 2012|      A3SZMGJMV0G16C|\"Andrew Pruette \"...|Han and Leia reun...|          1331769600|\n",
      "| 14|B000FA64PK| [0, 0]|      5|I am not for sure...|         05 12, 2013|      A3H8PE1UFK04JZ|         Caleb Watts|  Possibly Important|          1368316800|\n",
      "| 15|B000FA64PK| [0, 0]|      5|I really enjoyed ...|          01 2, 2014|      A2EN84QHDRZLP2|          Carl craft|        Another read|          1388620800|\n",
      "| 16|B000FA64PK| [0, 0]|      5|Great read enjoye...|         10 29, 2013|      A1UG4Q4D3OAH3A|                 dsa|            Recovery|          1383004800|\n",
      "| 17|B000FA64PK| [4, 4]|      3|Another well writ...|         04 16, 2009|      A38Z3Q6DTDIH9J|\"Jimmy J. Shaw \"\"...|Star Wars: The Ne...|          1239840000|\n",
      "| 18|B000FA64PK| [0, 1]|      5|This one promises...|         01 27, 2014|      A1ZT7WV0ZUA0OJ|                Mike|       my collection|          1390780800|\n",
      "| 19|B000FA64PK| [0, 0]|      4|\"I have a version...|\"\" so I downloade...| it surely failed...|   like in the DVD's| where it's bille...| but probably not...|\n",
      "+---+----------+-------+-------+--------------------+--------------------+--------------------+--------------------+--------------------+--------------------+\n",
      "only showing top 20 rows\n",
      "\n"
     ]
    }
   ],
   "source": [
    "df.show()"
   ]
  },
  {
   "cell_type": "code",
   "execution_count": 18,
   "id": "2534b225",
   "metadata": {},
   "outputs": [],
   "source": [
    "df=df.drop('reviewTime','reviewerName','reviewerID','helpful','unixReviewTime')"
   ]
  },
  {
   "cell_type": "code",
   "execution_count": 19,
   "id": "e432a2d5",
   "metadata": {},
   "outputs": [
    {
     "name": "stdout",
     "output_type": "stream",
     "text": [
      "+---+----------+-------+--------------------+--------------------+\n",
      "|_c0|      asin|overall|          reviewText|             summary|\n",
      "+---+----------+-------+--------------------+--------------------+\n",
      "|  0|B000F83SZQ|      5|I enjoy vintage b...|  Nice vintage story|\n",
      "|  1|B000F83SZQ|      4|This book is a re...|        Different...|\n",
      "|  2|B000F83SZQ|      4|This was a fairly...|               Oldie|\n",
      "|  3|B000F83SZQ|      5|I'd never read an...|  I really liked it.|\n",
      "|  4|B000F83SZQ|      4|If you like perio...|      Period Mystery|\n",
      "|  5|B000F83SZQ|      4|A beautiful in-de...|              Review|\n",
      "|  6|B000F83SZQ|      4|I enjoyed this on...|Nice old fashione...|\n",
      "|  7|B000F83SZQ|      4|Never heard of Am...|Enjoyable reading...|\n",
      "|  8|B000FA64PA|      5|Darth Maul workin...|          Darth Maul|\n",
      "|  9|B000FA64PA|      4|This is a short s...|Not bad, not exce...|\n",
      "| 10|B000FA64PA|      5|I think I have th...|      Audio and book|\n",
      "| 11|B000FA64PA|      4|Title has nothing...|Darth Maul...the ...|\n",
      "| 12|B000FA64PA|      3|Well written. Int...|Not bad; it is we...|\n",
      "| 13|B000FA64PK|      3|Troy Denning's no...|Han and Leia reun...|\n",
      "| 14|B000FA64PK|      5|I am not for sure...|  Possibly Important|\n",
      "| 15|B000FA64PK|      5|I really enjoyed ...|        Another read|\n",
      "| 16|B000FA64PK|      5|Great read enjoye...|            Recovery|\n",
      "| 17|B000FA64PK|      3|Another well writ...|Star Wars: The Ne...|\n",
      "| 18|B000FA64PK|      5|This one promises...|       my collection|\n",
      "| 19|B000FA64PK|      4|\"I have a version...| where it's bille...|\n",
      "+---+----------+-------+--------------------+--------------------+\n",
      "only showing top 20 rows\n",
      "\n"
     ]
    }
   ],
   "source": [
    "df.show()"
   ]
  },
  {
   "cell_type": "code",
   "execution_count": 20,
   "id": "5b4bb091",
   "metadata": {},
   "outputs": [
    {
     "name": "stdout",
     "output_type": "stream",
     "text": [
      "+-------+------+\n",
      "|overall| count|\n",
      "+-------+------+\n",
      "|   null|   201|\n",
      "|      1| 23018|\n",
      "|      3| 96194|\n",
      "|      5|575264|\n",
      "|      4|254013|\n",
      "|      2| 34130|\n",
      "+-------+------+\n",
      "\n"
     ]
    }
   ],
   "source": [
    "from pyspark.sql.functions import count, sum\n",
    "\n",
    "# Count the number of reviews per score\n",
    "review_counts = df.groupBy(\"overall\").agg(count(\"*\").alias(\"count\"))\n",
    "\n",
    "# Display the results\n",
    "review_counts.show()"
   ]
  },
  {
   "cell_type": "code",
   "execution_count": null,
   "id": "89cfb796",
   "metadata": {},
   "outputs": [],
   "source": []
  },
  {
   "cell_type": "code",
   "execution_count": 21,
   "id": "25711ddb",
   "metadata": {},
   "outputs": [
    {
     "data": {
      "image/png": "[encoded data removed]",
      "text/plain": [
       "<Figure size 720x432 with 1 Axes>"
      ]
     },
     "metadata": {
      "needs_background": "light"
     },
     "output_type": "display_data"
    }
   ],
   "source": [
    "\n",
    "\n",
    "pandas_df = review_counts.toPandas()\n",
    "\n",
    "# Create a bar chart\n",
    "pandas_df.plot(x='overall', y='count', kind='bar', figsize=(10,6), color=['g', 'r', 'b', 'm', 'y'])\n",
    "plt.grid()\n",
    "plt.xlabel(\"overall\")\n",
    "plt.ylabel(\"Number of Reviews Per overall\")\n",
    "plt.title(\"Distribution of Reviews Per overall\")\n",
    "\n",
    "# Show the plot\n",
    "plt.show()"
   ]
  },
  {
   "cell_type": "code",
   "execution_count": 22,
   "id": "0e98b26b",
   "metadata": {},
   "outputs": [],
   "source": [
    "df=df.select('summary','overall')"
   ]
  },
  {
   "cell_type": "code",
   "execution_count": 23,
   "id": "6647cb89",
   "metadata": {},
   "outputs": [
    {
     "name": "stdout",
     "output_type": "stream",
     "text": [
      "+--------------------+-------+\n",
      "|             summary|overall|\n",
      "+--------------------+-------+\n",
      "|  Nice vintage story|      5|\n",
      "|        Different...|      4|\n",
      "|               Oldie|      4|\n",
      "|  I really liked it.|      5|\n",
      "|      Period Mystery|      4|\n",
      "|              Review|      4|\n",
      "|Nice old fashione...|      4|\n",
      "|Enjoyable reading...|      4|\n",
      "|          Darth Maul|      5|\n",
      "|Not bad, not exce...|      4|\n",
      "|      Audio and book|      5|\n",
      "|Darth Maul...the ...|      4|\n",
      "|Not bad; it is we...|      3|\n",
      "|Han and Leia reun...|      3|\n",
      "|  Possibly Important|      5|\n",
      "|        Another read|      5|\n",
      "|            Recovery|      5|\n",
      "|Star Wars: The Ne...|      3|\n",
      "|       my collection|      5|\n",
      "| where it's bille...|      4|\n",
      "+--------------------+-------+\n",
      "only showing top 20 rows\n",
      "\n"
     ]
    }
   ],
   "source": [
    "df.show()"
   ]
  },
  {
   "cell_type": "code",
   "execution_count": 24,
   "id": "ff4496a4",
   "metadata": {},
   "outputs": [
    {
     "name": "stdout",
     "output_type": "stream",
     "text": [
      "+-------+------+\n",
      "|overall| count|\n",
      "+-------+------+\n",
      "|   null|   201|\n",
      "|      1| 23018|\n",
      "|      3| 96194|\n",
      "|      5|575264|\n",
      "|      4|254013|\n",
      "|      2| 34130|\n",
      "+-------+------+\n",
      "\n"
     ]
    }
   ],
   "source": [
    "df.groupBy('overall').count().show()"
   ]
  },
  {
   "cell_type": "code",
   "execution_count": 25,
   "id": "def953eb",
   "metadata": {},
   "outputs": [
    {
     "data": {
      "text/plain": [
       "5.0    575264\n",
       "4.0    254013\n",
       "3.0     96194\n",
       "2.0     34130\n",
       "1.0     23018\n",
       "Name: overall, dtype: int64"
      ]
     },
     "execution_count": 25,
     "metadata": {},
     "output_type": "execute_result"
    }
   ],
   "source": [
    "df.toPandas()['overall'].value_counts()"
   ]
  },
  {
   "cell_type": "code",
   "execution_count": 26,
   "id": "d1afe051",
   "metadata": {},
   "outputs": [
    {
     "data": {
      "text/plain": [
       "201"
      ]
     },
     "execution_count": 26,
     "metadata": {},
     "output_type": "execute_result"
    }
   ],
   "source": [
    "df.toPandas()['overall'].isnull().sum()"
   ]
  },
  {
   "cell_type": "code",
   "execution_count": 27,
   "id": "60ec10af",
   "metadata": {},
   "outputs": [
    {
     "data": {
      "text/plain": [
       "435"
      ]
     },
     "execution_count": 27,
     "metadata": {},
     "output_type": "execute_result"
    }
   ],
   "source": [
    "df.toPandas()['summary'].isnull().sum()"
   ]
  },
  {
   "cell_type": "code",
   "execution_count": 28,
   "id": "9483ced1",
   "metadata": {},
   "outputs": [],
   "source": [
    "df = df.na.drop(subset=['summary', 'overall'])"
   ]
  },
  {
   "cell_type": "code",
   "execution_count": 29,
   "id": "e81f6543",
   "metadata": {},
   "outputs": [
    {
     "data": {
      "text/plain": [
       "0"
      ]
     },
     "execution_count": 29,
     "metadata": {},
     "output_type": "execute_result"
    }
   ],
   "source": [
    "df.toPandas()['overall'].isnull().sum()"
   ]
  },
  {
   "cell_type": "code",
   "execution_count": 30,
   "id": "70c4f26c",
   "metadata": {},
   "outputs": [
    {
     "data": {
      "text/plain": [
       "0"
      ]
     },
     "execution_count": 30,
     "metadata": {},
     "output_type": "execute_result"
    }
   ],
   "source": [
    "df.toPandas()['summary'].isnull().sum()"
   ]
  },
  {
   "cell_type": "code",
   "execution_count": 31,
   "id": "b3473ae4",
   "metadata": {},
   "outputs": [
    {
     "name": "stdout",
     "output_type": "stream",
     "text": [
      "+------------------+-------+\n",
      "|           summary|overall|\n",
      "+------------------+-------+\n",
      "|Nice vintage story|      5|\n",
      "|      Different...|      4|\n",
      "|             Oldie|      4|\n",
      "|I really liked it.|      5|\n",
      "|    Period Mystery|      4|\n",
      "+------------------+-------+\n",
      "only showing top 5 rows\n",
      "\n"
     ]
    }
   ],
   "source": [
    "df.show(5)"
   ]
  },
  {
   "cell_type": "code",
   "execution_count": 32,
   "id": "fb531eb8",
   "metadata": {},
   "outputs": [],
   "source": [
    "import pyspark.ml.feature"
   ]
  },
  {
   "cell_type": "code",
   "execution_count": 33,
   "id": "b2f803c8",
   "metadata": {},
   "outputs": [],
   "source": [
    "from pyspark.ml.feature import StringIndexer"
   ]
  },
  {
   "cell_type": "code",
   "execution_count": 34,
   "id": "bc433fbc",
   "metadata": {},
   "outputs": [],
   "source": [
    "tokenizer=Tokenizer(inputCol='summary',outputCol='review_token')\n",
    "stop_words=StopWordsRemover(inputCol='review_token',outputCol='review_stop')\n",
    "countvector=CountVectorizer(inputCol='review_stop',outputCol='review_count')\n",
    "Idf=IDF(inputCol='review_count',outputCol='Idf_features')"
   ]
  },
  {
   "cell_type": "code",
   "execution_count": 35,
   "id": "24754664",
   "metadata": {},
   "outputs": [],
   "source": [
    "#labelEncoder = StringIndexer(inputCol='overall', outputCol='label').fit(df)"
   ]
  },
  {
   "cell_type": "code",
   "execution_count": 36,
   "id": "64f7e89a",
   "metadata": {},
   "outputs": [],
   "source": [
    "#labelEncoder.transform(df).show(5)"
   ]
  },
  {
   "cell_type": "code",
   "execution_count": null,
   "id": "51a3d553",
   "metadata": {},
   "outputs": [],
   "source": []
  },
  {
   "cell_type": "code",
   "execution_count": 37,
   "id": "72865c08",
   "metadata": {},
   "outputs": [],
   "source": [
    "#labelEncoder.labels"
   ]
  },
  {
   "cell_type": "code",
   "execution_count": 38,
   "id": "3c9bf0db",
   "metadata": {},
   "outputs": [
    {
     "name": "stdout",
     "output_type": "stream",
     "text": [
      "+--------------------+-------+\n",
      "|             summary|overall|\n",
      "+--------------------+-------+\n",
      "|  Nice vintage story|      5|\n",
      "|        Different...|      4|\n",
      "|               Oldie|      4|\n",
      "|  I really liked it.|      5|\n",
      "|      Period Mystery|      4|\n",
      "|              Review|      4|\n",
      "|Nice old fashione...|      4|\n",
      "|Enjoyable reading...|      4|\n",
      "|          Darth Maul|      5|\n",
      "|Not bad, not exce...|      4|\n",
      "|      Audio and book|      5|\n",
      "|Darth Maul...the ...|      4|\n",
      "|Not bad; it is we...|      3|\n",
      "|Han and Leia reun...|      3|\n",
      "|  Possibly Important|      5|\n",
      "|        Another read|      5|\n",
      "|            Recovery|      5|\n",
      "|Star Wars: The Ne...|      3|\n",
      "|       my collection|      5|\n",
      "| where it's bille...|      4|\n",
      "+--------------------+-------+\n",
      "only showing top 20 rows\n",
      "\n"
     ]
    }
   ],
   "source": [
    "df.show()"
   ]
  },
  {
   "cell_type": "code",
   "execution_count": 91,
   "id": "5e417c41",
   "metadata": {},
   "outputs": [],
   "source": [
    "#df = labelEncoder.transform(df)"
   ]
  },
  {
   "cell_type": "code",
   "execution_count": 40,
   "id": "3fd84f5f",
   "metadata": {},
   "outputs": [
    {
     "name": "stdout",
     "output_type": "stream",
     "text": [
      "+------------------+-------+\n",
      "|           summary|overall|\n",
      "+------------------+-------+\n",
      "|Nice vintage story|      5|\n",
      "|      Different...|      4|\n",
      "|             Oldie|      4|\n",
      "|I really liked it.|      5|\n",
      "|    Period Mystery|      4|\n",
      "+------------------+-------+\n",
      "only showing top 5 rows\n",
      "\n"
     ]
    }
   ],
   "source": [
    "df.show(5)"
   ]
  },
  {
   "cell_type": "code",
   "execution_count": null,
   "id": "3c05becc",
   "metadata": {},
   "outputs": [],
   "source": []
  },
  {
   "cell_type": "code",
   "execution_count": null,
   "id": "5bb97666",
   "metadata": {},
   "outputs": [],
   "source": []
  },
  {
   "cell_type": "code",
   "execution_count": null,
   "id": "7b02e11f",
   "metadata": {},
   "outputs": [],
   "source": []
  },
  {
   "cell_type": "code",
   "execution_count": 41,
   "id": "13f58a02",
   "metadata": {},
   "outputs": [],
   "source": [
    "(trainDF,testDF)=df.randomSplit((0.8,0.2),seed=42)\n"
   ]
  },
  {
   "cell_type": "code",
   "execution_count": 42,
   "id": "78cb1b6a",
   "metadata": {},
   "outputs": [
    {
     "name": "stdout",
     "output_type": "stream",
     "text": [
      "+--------------------+-------+\n",
      "|             summary|overall|\n",
      "+--------------------+-------+\n",
      "|  Cats and romanc...|      5|\n",
      "|       Charles Vance|      2|\n",
      "|    Have a nice day\"|      5|\n",
      "|  I can see a tre...|      2|\n",
      "|  I have trouble ...|      5|\n",
      "+--------------------+-------+\n",
      "only showing top 5 rows\n",
      "\n"
     ]
    }
   ],
   "source": [
    "trainDF.show(5)"
   ]
  },
  {
   "cell_type": "code",
   "execution_count": 43,
   "id": "70287f85",
   "metadata": {},
   "outputs": [],
   "source": [
    "from pyspark.ml import Pipeline\n",
    "from pyspark.ml.classification import LogisticRegression\n",
    "from pyspark.ml.evaluation import MulticlassClassificationEvaluator"
   ]
  },
  {
   "cell_type": "code",
   "execution_count": null,
   "id": "d266c360",
   "metadata": {},
   "outputs": [],
   "source": [
    "#df1=LabelEncoder.transform(df)"
   ]
  },
  {
   "cell_type": "code",
   "execution_count": null,
   "id": "4b205fb7",
   "metadata": {},
   "outputs": [],
   "source": [
    "#lr = LogisticRegression(featuresCol='Idf_features', labelCol='overall', maxIter=10)"
   ]
  },
  {
   "cell_type": "code",
   "execution_count": 93,
   "id": "49d55507",
   "metadata": {},
   "outputs": [],
   "source": [
    "lr=LogisticRegression(featuresCol='Idf_features',labelCol='overall',maxIter=10)"
   ]
  },
  {
   "cell_type": "code",
   "execution_count": 94,
   "id": "6520c854",
   "metadata": {},
   "outputs": [],
   "source": [
    "pipeline = Pipeline(stages=[tokenizer,stop_words,countvector,Idf,lr])"
   ]
  },
  {
   "cell_type": "code",
   "execution_count": 46,
   "id": "6f9dbd49",
   "metadata": {},
   "outputs": [
    {
     "data": {
      "text/plain": [
       "Pipeline_716a48ea2534"
      ]
     },
     "execution_count": 46,
     "metadata": {},
     "output_type": "execute_result"
    }
   ],
   "source": [
    "pipeline"
   ]
  },
  {
   "cell_type": "code",
   "execution_count": 47,
   "id": "d2db5339",
   "metadata": {},
   "outputs": [
    {
     "data": {
      "text/plain": [
       "Param(parent='Pipeline_716a48ea2534', name='stages', doc='a list of pipeline stages')"
      ]
     },
     "execution_count": 47,
     "metadata": {},
     "output_type": "execute_result"
    }
   ],
   "source": [
    "pipeline.stages"
   ]
  },
  {
   "cell_type": "code",
   "execution_count": null,
   "id": "b1e07d4f",
   "metadata": {},
   "outputs": [],
   "source": []
  },
  {
   "cell_type": "code",
   "execution_count": 95,
   "id": "c416d7fe",
   "metadata": {},
   "outputs": [],
   "source": [
    "# Building MOdel\n",
    "lr_model = pipeline.fit(trainDF)"
   ]
  },
  {
   "cell_type": "code",
   "execution_count": 49,
   "id": "229e2fec",
   "metadata": {},
   "outputs": [
    {
     "data": {
      "text/plain": [
       "PipelineModel_c1e8e7b976be"
      ]
     },
     "execution_count": 49,
     "metadata": {},
     "output_type": "execute_result"
    }
   ],
   "source": [
    "lr_model"
   ]
  },
  {
   "cell_type": "code",
   "execution_count": 96,
   "id": "6d7099e4",
   "metadata": {},
   "outputs": [],
   "source": [
    "# Predictions on our Test Dataset\n",
    "predictions = lr_model.transform(testDF)"
   ]
  },
  {
   "cell_type": "code",
   "execution_count": 97,
   "id": "e6aad1ac",
   "metadata": {},
   "outputs": [
    {
     "name": "stdout",
     "output_type": "stream",
     "text": [
      "+--------------------+-------+--------------------+--------------------+--------------------+--------------------+--------------------+--------------------+----------+\n",
      "|             summary|overall|        review_token|         review_stop|        review_count|        Idf_features|       rawPrediction|         probability|prediction|\n",
      "+--------------------+-------+--------------------+--------------------+--------------------+--------------------+--------------------+--------------------+----------+\n",
      "|              Hatrid|      4|        [, , hatrid]|        [, , hatrid]|(185971,[3,62332]...|(185971,[3,62332]...|[-9.6104541864445...|[1.81471998324960...|       4.0|\n",
      "|  I look forward ...|      5|[, , i, look, for...|[, , look, forwar...|(185971,[3,91,202...|(185971,[3,91,202...|[-9.6103931059187...|[5.32283502254109...|       5.0|\n",
      "|               Keta |      5|          [, , keta]|          [, , keta]|(185971,[3,26900]...|(185971,[3,26900]...|[-9.6104790530806...|[1.26046995024030...|       5.0|\n",
      "|  and it was too ...|      3|[, , and, it, was...|[, , easy, start,...|(185971,[3,10,54,...|(185971,[3,10,54,...|[-9.6101773404206...|[3.29033520094066...|       3.0|\n",
      "|  his mate works ...|      4|[, , his, mate, w...|[, , mate, works,...|(185971,[3,4,9,11...|(185971,[3,4,9,11...|[-9.6095516402852...|[4.42638142150873...|       4.0|\n",
      "|  she worries abo...|      3|[, , she, worries...|[, , worries, goe...|(185971,[3,570,26...|(185971,[3,570,26...|[-9.6104493469224...|[5.71367293611219...|       5.0|\n",
      "|  with that...it ...|      3|[, , with, that.....|[, , that...it, w...|(185971,[3,5,11,3...|(185971,[3,5,11,3...|[-9.6103588579073...|[1.21562645299511...|       3.0|\n",
      "|          \"\"-esque\"\"|      1|      [, \"\"-esque\"\"]|      [, \"\"-esque\"\"]|(185971,[3,169332...|(185971,[3,169332...|[-9.6104709543302...|[9.81106307318036...|       1.0|\n",
      "| \"\"Beauty\"\" will ...|      1|[, \"\"beauty\"\", wi...|[, \"\"beauty\"\", ro...|(185971,[3,20260,...|(185971,[3,20260,...|[-9.6103685846691...|[1.12378110108463...|       1.0|\n",
      "| \"\"Ben's Wildflow...|      3|[, \"\"ben's, wildf...|[, \"\"ben's, wildf...|(185971,[3,89132,...|(185971,[3,89132,...|[-9.6104031342956...|[2.03792085370912...|       3.0|\n",
      "| \"\"Birthday Sex S...|      2|[, \"\"birthday, se...|[, \"\"birthday, se...|(185971,[1,3,5,6,...|(185971,[1,3,5,6,...|[-9.6099121676563...|[4.04587584818264...|       2.0|\n",
      "| \"\"Carrie\"\" showe...|      5|[, \"\"carrie\"\", sh...|[, \"\"carrie\"\", sh...|(185971,[3,5,17,4...|(185971,[3,5,17,4...|[-9.6098984902347...|[1.24030833087591...|       5.0|\n",
      "| \"\"Darkness Befor...|      5|[, \"\"darkness, be...|[, \"\"darkness, da...|(185971,[3,45921,...|(185971,[3,45921,...|[-9.6104172297990...|[4.07328993426215...|       5.0|\n",
      "| \"\"Drum Dance\"\" i...|      5|[, \"\"drum, dance\"...|[, \"\"drum, dance\"...|(185971,[3,67,93,...|(185971,[3,67,93,...|[-9.6103224095093...|[3.89227045586935...|       5.0|\n",
      "|              \"\"Hmmm|      5|          [, \"\"hmmm]|          [, \"\"hmmm]|(185971,[3,122358...|(185971,[3,122358...|[-9.6104683788060...|[2.53917534745457...|       5.0|\n",
      "| \"\"I'm going to g...|      1|[, \"\"i'm, going, ...|[, \"\"i'm, going, ...|(185971,[1,3,122,...|(185971,[1,3,122,...|[-9.6104146720488...|[2.83382262097327...|       1.0|\n",
      "| \"\"Look a little ...|      5|[, \"\"look, a, lit...|[, \"\"look, little...|(185971,[3,37,113...|(185971,[3,37,113...|[-9.6104661677227...|[6.96471133447601...|       5.0|\n",
      "| \"\"The Way I See ...|      4|[, \"\"the, way, i,...|[, \"\"the, way, se...|(185971,[3,60,130...|(185971,[3,60,130...|[-9.6104055584920...|[7.89666849324280...|       5.0|\n",
      "| \"\"Where did he t...|      5|[, \"\"where, did, ...|   [, \"\"where, take]|(185971,[3,118,17...|(185971,[3,118,17...|[-9.6104500526227...|[2.00917253888252...|       5.0|\n",
      "|              \"\"Yeah|      5|          [, \"\"yeah]|          [, \"\"yeah]|(185971,[3,35710]...|(185971,[3,35710]...|[-9.6104910576142...|[3.08240124278496...|       5.0|\n",
      "+--------------------+-------+--------------------+--------------------+--------------------+--------------------+--------------------+--------------------+----------+\n",
      "only showing top 20 rows\n",
      "\n"
     ]
    }
   ],
   "source": [
    "predictions.show()"
   ]
  },
  {
   "cell_type": "code",
   "execution_count": 98,
   "id": "21652331",
   "metadata": {},
   "outputs": [
    {
     "data": {
      "text/plain": [
       "['summary',\n",
       " 'overall',\n",
       " 'review_token',\n",
       " 'review_stop',\n",
       " 'review_count',\n",
       " 'Idf_features',\n",
       " 'rawPrediction',\n",
       " 'probability',\n",
       " 'prediction']"
      ]
     },
     "execution_count": 98,
     "metadata": {},
     "output_type": "execute_result"
    }
   ],
   "source": [
    "# Select Columns\n",
    "predictions.columns"
   ]
  },
  {
   "cell_type": "code",
   "execution_count": null,
   "id": "136f6f83",
   "metadata": {},
   "outputs": [],
   "source": []
  },
  {
   "cell_type": "code",
   "execution_count": 99,
   "id": "0d21fe67",
   "metadata": {},
   "outputs": [
    {
     "name": "stdout",
     "output_type": "stream",
     "text": [
      "+--------------------+--------------------+--------------------+-------+----------+\n",
      "|       rawPrediction|         probability|             summary|overall|prediction|\n",
      "+--------------------+--------------------+--------------------+-------+----------+\n",
      "|[-9.6104541864445...|[1.81471998324960...|              Hatrid|      4|       4.0|\n",
      "|[-9.6103931059187...|[5.32283502254109...|  I look forward ...|      5|       5.0|\n",
      "|[-9.6104790530806...|[1.26046995024030...|               Keta |      5|       5.0|\n",
      "|[-9.6101773404206...|[3.29033520094066...|  and it was too ...|      3|       3.0|\n",
      "|[-9.6095516402852...|[4.42638142150873...|  his mate works ...|      4|       4.0|\n",
      "|[-9.6104493469224...|[5.71367293611219...|  she worries abo...|      3|       5.0|\n",
      "|[-9.6103588579073...|[1.21562645299511...|  with that...it ...|      3|       3.0|\n",
      "|[-9.6104709543302...|[9.81106307318036...|          \"\"-esque\"\"|      1|       1.0|\n",
      "|[-9.6103685846691...|[1.12378110108463...| \"\"Beauty\"\" will ...|      1|       1.0|\n",
      "|[-9.6104031342956...|[2.03792085370912...| \"\"Ben's Wildflow...|      3|       3.0|\n",
      "+--------------------+--------------------+--------------------+-------+----------+\n",
      "only showing top 10 rows\n",
      "\n"
     ]
    }
   ],
   "source": [
    "predictions.select('rawPrediction','probability','summary','overall','prediction').show(10)"
   ]
  },
  {
   "cell_type": "code",
   "execution_count": 100,
   "id": "ec614360",
   "metadata": {},
   "outputs": [],
   "source": [
    "from pyspark.ml.evaluation import MulticlassClassificationEvaluator"
   ]
  },
  {
   "cell_type": "code",
   "execution_count": 101,
   "id": "706c7f4b",
   "metadata": {},
   "outputs": [],
   "source": [
    "evaluator = MulticlassClassificationEvaluator(labelCol='overall',predictionCol='prediction',metricName='accuracy')"
   ]
  },
  {
   "cell_type": "code",
   "execution_count": 102,
   "id": "f9b8813e",
   "metadata": {},
   "outputs": [],
   "source": [
    "accuracy = evaluator.evaluate(predictions)"
   ]
  },
  {
   "cell_type": "code",
   "execution_count": 103,
   "id": "420451e9",
   "metadata": {},
   "outputs": [
    {
     "data": {
      "text/plain": [
       "0.7105804271259594"
      ]
     },
     "execution_count": 103,
     "metadata": {},
     "output_type": "execute_result"
    }
   ],
   "source": [
    "accuracy"
   ]
  },
  {
   "cell_type": "code",
   "execution_count": 84,
   "id": "8ecbf71a",
   "metadata": {},
   "outputs": [],
   "source": [
    "from pyspark.mllib.evaluation import MulticlassMetrics"
   ]
  },
  {
   "cell_type": "code",
   "execution_count": 85,
   "id": "a05fcf0a",
   "metadata": {},
   "outputs": [
    {
     "name": "stderr",
     "output_type": "stream",
     "text": [
      "C:\\Users\\rejee\\anaconda3\\lib\\site-packages\\pyspark\\sql\\context.py:157: FutureWarning: Deprecated in 3.0.0. Use SparkSession.builder.getOrCreate() instead.\n",
      "  warnings.warn(\n"
     ]
    }
   ],
   "source": [
    "lr_metric = MulticlassMetrics(predictions['overall','prediction'].rdd)"
   ]
  },
  {
   "cell_type": "code",
   "execution_count": 68,
   "id": "e4261239",
   "metadata": {},
   "outputs": [],
   "source": [
    "#print(\"Accuracy:\",lr_metric.accuracy)\n",
    "#print(\"Precision:\",lr_metric.precision(1.0))\n",
    "#print(\"Recall:\",lr_metric.recall(1.0))\n",
    "#print(\"F1Score:\",lr_metric.fMeasure(1.0))"
   ]
  },
  {
   "cell_type": "code",
   "execution_count": 111,
   "id": "7e2298b0",
   "metadata": {},
   "outputs": [],
   "source": []
  },
  {
   "cell_type": "code",
   "execution_count": 116,
   "id": "5edb2e85",
   "metadata": {},
   "outputs": [],
   "source": []
  },
  {
   "cell_type": "code",
   "execution_count": 117,
   "id": "be47f4fe",
   "metadata": {},
   "outputs": [],
   "source": []
  },
  {
   "cell_type": "code",
   "execution_count": null,
   "id": "652e9c84",
   "metadata": {},
   "outputs": [],
   "source": []
  },
  {
   "cell_type": "code",
   "execution_count": 86,
   "id": "f67856e3",
   "metadata": {},
   "outputs": [],
   "source": [
    "y_true = predictions.select('overall')\n",
    "y_true = y_true.toPandas()\n",
    "y_pred = predictions.select('prediction')\n",
    "y_pred = y_pred.toPandas()"
   ]
  },
  {
   "cell_type": "code",
   "execution_count": 87,
   "id": "5305a5fc",
   "metadata": {},
   "outputs": [],
   "source": [
    "from sklearn.metrics import confusion_matrix,classification_report"
   ]
  },
  {
   "cell_type": "code",
   "execution_count": 88,
   "id": "746690db",
   "metadata": {},
   "outputs": [],
   "source": [
    "cm = confusion_matrix(y_true,y_pred)"
   ]
  },
  {
   "cell_type": "code",
   "execution_count": 89,
   "id": "00f7b13f",
   "metadata": {},
   "outputs": [
    {
     "data": {
      "text/plain": [
       "array([[  2392,    486,    353,    231,   1211],\n",
       "       [   502,   2681,   1213,    509,   1990],\n",
       "       [   272,    656,   8290,   4100,   5904],\n",
       "       [   143,    235,   1894,  22405,  26007],\n",
       "       [   227,    316,    981,   9337, 104141]], dtype=int64)"
      ]
     },
     "execution_count": 89,
     "metadata": {},
     "output_type": "execute_result"
    }
   ],
   "source": [
    "cm"
   ]
  },
  {
   "cell_type": "code",
   "execution_count": 90,
   "id": "9a83a848",
   "metadata": {},
   "outputs": [
    {
     "name": "stdout",
     "output_type": "stream",
     "text": [
      "              precision    recall  f1-score   support\n",
      "\n",
      "           1       0.68      0.51      0.58      4673\n",
      "           2       0.61      0.39      0.48      6895\n",
      "           3       0.65      0.43      0.52     19222\n",
      "           4       0.61      0.44      0.51     50684\n",
      "           5       0.75      0.91      0.82    115002\n",
      "\n",
      "    accuracy                           0.71    196476\n",
      "   macro avg       0.66      0.54      0.58    196476\n",
      "weighted avg       0.70      0.71      0.69    196476\n",
      "\n"
     ]
    }
   ],
   "source": [
    "# Classication Report\n",
    "print(classification_report(y_true,y_pred))"
   ]
  },
  {
   "cell_type": "code",
   "execution_count": null,
   "id": "dee1685c",
   "metadata": {},
   "outputs": [],
   "source": [
    "plt.plot(history_embedding.history['accuracy'],c='b',label='train accuracy')\n",
    "plt.plot(history_embedding.history['val_accuracy'],c='r',label='validation accuracy')\n",
    "plt.legend(loc='lower right')\n",
    "plt.show()"
   ]
  }
 ],
 "metadata": {
  "kernelspec": {
   "display_name": "Python 3 (ipykernel)",
   "language": "python",
   "name": "python3"
  },
  "language_info": {
   "codemirror_mode": {
    "name": "ipython",
    "version": 3
   },
   "file_extension": ".py",
   "mimetype": "text/x-python",
   "name": "python",
   "nbconvert_exporter": "python",
   "pygments_lexer": "ipython3",
   "version": "3.9.7"
  }
 },
 "nbformat": 4,
 "nbformat_minor": 5
}
